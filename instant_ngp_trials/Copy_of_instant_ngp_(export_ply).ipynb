{
  "cells": [
    {
      "cell_type": "markdown",
      "metadata": {
        "id": "view-in-github",
        "colab_type": "text"
      },
      "source": [
        "<a href=\"https://colab.research.google.com/github/Image-AI/AI_projects_trying/blob/main/Copy_of_instant_ngp_(export_ply).ipynb\" target=\"_parent\"><img src=\"https://colab.research.google.com/assets/colab-badge.svg\" alt=\"Open In Colab\"/></a>"
      ]
    },
    {
      "cell_type": "code",
      "execution_count": null,
      "metadata": {
        "colab": {
          "base_uri": "https://localhost:8080/"
        },
        "id": "QJC-0GitoJEh",
        "outputId": "26b50d15-3264-446b-ff58-8407f0154ddc"
      },
      "outputs": [
        {
          "output_type": "stream",
          "name": "stdout",
          "text": [
            "Fri Jul  1 16:03:08 2022       \n",
            "+-----------------------------------------------------------------------------+\n",
            "| NVIDIA-SMI 460.32.03    Driver Version: 460.32.03    CUDA Version: 11.2     |\n",
            "|-------------------------------+----------------------+----------------------+\n",
            "| GPU  Name        Persistence-M| Bus-Id        Disp.A | Volatile Uncorr. ECC |\n",
            "| Fan  Temp  Perf  Pwr:Usage/Cap|         Memory-Usage | GPU-Util  Compute M. |\n",
            "|                               |                      |               MIG M. |\n",
            "|===============================+======================+======================|\n",
            "|   0  Tesla T4            Off  | 00000000:00:04.0 Off |                    0 |\n",
            "| N/A   53C    P8    10W /  70W |      0MiB / 15109MiB |      0%      Default |\n",
            "|                               |                      |                  N/A |\n",
            "+-------------------------------+----------------------+----------------------+\n",
            "                                                                               \n",
            "+-----------------------------------------------------------------------------+\n",
            "| Processes:                                                                  |\n",
            "|  GPU   GI   CI        PID   Type   Process name                  GPU Memory |\n",
            "|        ID   ID                                                   Usage      |\n",
            "|=============================================================================|\n",
            "|  No running processes found                                                 |\n",
            "+-----------------------------------------------------------------------------+\n"
          ]
        }
      ],
      "source": [
        "!nvidia-smi"
      ]
    },
    {
      "cell_type": "code",
      "execution_count": null,
      "metadata": {
        "colab": {
          "base_uri": "https://localhost:8080/"
        },
        "id": "yKFsL8wSdQ8Q",
        "outputId": "9dfb14a1-ac26-4441-edf4-680a319cf421"
      },
      "outputs": [
        {
          "output_type": "stream",
          "name": "stdout",
          "text": [
            "\u001b[33m\r0% [Working]\u001b[0m\r            \rHit:1 https://developer.download.nvidia.com/compute/cuda/repos/ubuntu1804/x86_64  InRelease\n",
            "Get:2 https://cloud.r-project.org/bin/linux/ubuntu bionic-cran40/ InRelease [3,626 B]\n",
            "Get:3 http://security.ubuntu.com/ubuntu bionic-security InRelease [88.7 kB]\n",
            "Hit:4 http://ppa.launchpad.net/c2d4u.team/c2d4u4.0+/ubuntu bionic InRelease\n",
            "Hit:5 http://archive.ubuntu.com/ubuntu bionic InRelease\n",
            "Get:6 http://archive.ubuntu.com/ubuntu bionic-updates InRelease [88.7 kB]\n",
            "Hit:7 http://ppa.launchpad.net/cran/libgit2/ubuntu bionic InRelease\n",
            "Ign:8 https://developer.download.nvidia.com/compute/machine-learning/repos/ubuntu1804/x86_64  InRelease\n",
            "Hit:9 https://developer.download.nvidia.com/compute/machine-learning/repos/ubuntu1804/x86_64  Release\n",
            "Get:10 http://security.ubuntu.com/ubuntu bionic-security/main amd64 Packages [2,867 kB]\n",
            "Hit:11 http://ppa.launchpad.net/deadsnakes/ppa/ubuntu bionic InRelease\n",
            "Get:13 http://archive.ubuntu.com/ubuntu bionic-backports InRelease [74.6 kB]\n",
            "Hit:14 http://ppa.launchpad.net/graphics-drivers/ppa/ubuntu bionic InRelease\n",
            "Get:15 http://archive.ubuntu.com/ubuntu bionic-updates/restricted amd64 Packages [1,075 kB]\n",
            "Get:16 http://archive.ubuntu.com/ubuntu bionic-updates/main amd64 Packages [3,302 kB]\n",
            "Get:17 http://archive.ubuntu.com/ubuntu bionic-updates/universe amd64 Packages [2,298 kB]\n",
            "Fetched 9,797 kB in 4s (2,592 kB/s)\n",
            "Reading package lists... Done\n",
            "Building dependency tree       \n",
            "Reading state information... Done\n",
            "49 packages can be upgraded. Run 'apt list --upgradable' to see them.\n",
            "Reading package lists... Done\n",
            "Building dependency tree       \n",
            "Reading state information... Done\n",
            "build-essential is already the newest version (12.4ubuntu1).\n",
            "libxi-dev is already the newest version (2:1.7.9-1).\n",
            "libxi-dev set to manually installed.\n",
            "git is already the newest version (1:2.17.1-1ubuntu0.11).\n",
            "libopenexr-dev is already the newest version (2.2.0-11.1ubuntu1.9).\n",
            "libopenexr-dev set to manually installed.\n",
            "python3-dev is already the newest version (3.6.7-1~18.04).\n",
            "python3-dev set to manually installed.\n",
            "The following package was automatically installed and is no longer required:\n",
            "  libnvidia-common-460\n",
            "Use 'apt autoremove' to remove it.\n",
            "The following additional packages will be installed:\n",
            "  libglew2.0 libglfw3 libomp5 libvulkan-dev libvulkan1 libxrandr-dev\n",
            "  mesa-vulkan-drivers python-pip-whl python3-asn1crypto python3-cffi-backend\n",
            "  python3-crypto python3-cryptography python3-idna python3-keyring\n",
            "  python3-keyrings.alt python3-pkg-resources python3-secretstorage\n",
            "  python3-setuptools python3-six python3-wheel python3-xdg x11proto-randr-dev\n",
            "  x11proto-xinerama-dev\n",
            "Suggested packages:\n",
            "  glew-utils libegl1-mesa | libegl1-x11 libomp-doc python-crypto-doc\n",
            "  python-cryptography-doc python3-cryptography-vectors gnome-keyring\n",
            "  libkf5wallet-bin gir1.2-gnomekeyring-1.0 python-secretstorage-doc\n",
            "  python-setuptools-doc\n",
            "The following NEW packages will be installed:\n",
            "  libglew-dev libglew2.0 libglfw3 libglfw3-dev libomp-dev libomp5\n",
            "  libvulkan-dev libvulkan1 libxcursor-dev libxinerama-dev libxrandr-dev\n",
            "  mesa-vulkan-drivers python-pip-whl python3-asn1crypto python3-cffi-backend\n",
            "  python3-crypto python3-cryptography python3-idna python3-keyring\n",
            "  python3-keyrings.alt python3-pip python3-pkg-resources python3-secretstorage\n",
            "  python3-setuptools python3-six python3-wheel python3-xdg x11proto-randr-dev\n",
            "  x11proto-xinerama-dev\n",
            "0 upgraded, 29 newly installed, 0 to remove and 49 not upgraded.\n",
            "Need to get 7,158 kB of archives.\n",
            "After this operation, 34.5 MB of additional disk space will be used.\n",
            "Get:1 http://ppa.launchpad.net/graphics-drivers/ppa/ubuntu bionic/main amd64 libvulkan1 amd64 1.1.126.0-2~gpu18.04.1 [101 kB]\n",
            "Get:2 http://archive.ubuntu.com/ubuntu bionic/universe amd64 libglew2.0 amd64 2.0.0-5 [140 kB]\n",
            "Get:3 http://ppa.launchpad.net/graphics-drivers/ppa/ubuntu bionic/main amd64 libvulkan-dev amd64 1.1.126.0-2~gpu18.04.1 [472 kB]\n",
            "Get:4 http://archive.ubuntu.com/ubuntu bionic/universe amd64 libglew-dev amd64 2.0.0-5 [120 kB]\n",
            "Get:5 http://archive.ubuntu.com/ubuntu bionic/universe amd64 libglfw3 amd64 3.2.1-1 [49.2 kB]\n",
            "Get:6 http://archive.ubuntu.com/ubuntu bionic/universe amd64 libglfw3-dev amd64 3.2.1-1 [30.9 kB]\n",
            "Get:7 http://archive.ubuntu.com/ubuntu bionic/main amd64 libxcursor-dev amd64 1:1.1.15-1 [26.5 kB]\n",
            "Get:8 http://archive.ubuntu.com/ubuntu bionic/main amd64 x11proto-xinerama-dev all 2018.4-4 [2,628 B]\n",
            "Get:9 http://archive.ubuntu.com/ubuntu bionic/main amd64 libxinerama-dev amd64 2:1.1.3-1 [8,404 B]\n",
            "Get:10 http://archive.ubuntu.com/ubuntu bionic/main amd64 x11proto-randr-dev all 2018.4-4 [2,620 B]\n",
            "Get:11 http://archive.ubuntu.com/ubuntu bionic/main amd64 libxrandr-dev amd64 2:1.5.1-1 [24.0 kB]\n",
            "Get:12 http://archive.ubuntu.com/ubuntu bionic-updates/universe amd64 mesa-vulkan-drivers amd64 20.0.8-0ubuntu1~18.04.1 [3,059 kB]\n",
            "Get:13 http://archive.ubuntu.com/ubuntu bionic-updates/universe amd64 python-pip-whl all 9.0.1-2.3~ubuntu1.18.04.5 [1,653 kB]\n",
            "Get:14 http://archive.ubuntu.com/ubuntu bionic/main amd64 python3-asn1crypto all 0.24.0-1 [72.8 kB]\n",
            "Get:15 http://archive.ubuntu.com/ubuntu bionic/main amd64 python3-cffi-backend amd64 1.11.5-1 [64.6 kB]\n",
            "Get:16 http://archive.ubuntu.com/ubuntu bionic/main amd64 python3-crypto amd64 2.6.1-8ubuntu2 [244 kB]\n",
            "Get:17 http://archive.ubuntu.com/ubuntu bionic/main amd64 python3-idna all 2.6-1 [32.5 kB]\n",
            "Get:18 http://archive.ubuntu.com/ubuntu bionic/main amd64 python3-six all 1.11.0-2 [11.4 kB]\n",
            "Get:19 http://archive.ubuntu.com/ubuntu bionic-updates/main amd64 python3-cryptography amd64 2.1.4-1ubuntu1.4 [220 kB]\n",
            "Get:20 http://archive.ubuntu.com/ubuntu bionic/main amd64 python3-secretstorage all 2.3.1-2 [12.1 kB]\n",
            "Get:21 http://archive.ubuntu.com/ubuntu bionic/main amd64 python3-keyring all 10.6.0-1 [26.7 kB]\n",
            "Get:22 http://archive.ubuntu.com/ubuntu bionic/main amd64 python3-keyrings.alt all 3.0-1 [16.6 kB]\n",
            "Get:23 http://archive.ubuntu.com/ubuntu bionic-updates/universe amd64 python3-pip all 9.0.1-2.3~ubuntu1.18.04.5 [114 kB]\n",
            "Get:24 http://archive.ubuntu.com/ubuntu bionic/main amd64 python3-pkg-resources all 39.0.1-2 [98.8 kB]\n",
            "Get:25 http://archive.ubuntu.com/ubuntu bionic/main amd64 python3-setuptools all 39.0.1-2 [248 kB]\n",
            "Get:26 http://archive.ubuntu.com/ubuntu bionic/universe amd64 python3-wheel all 0.30.0-0.2 [36.5 kB]\n",
            "Get:27 http://archive.ubuntu.com/ubuntu bionic-updates/main amd64 python3-xdg all 0.25-4ubuntu1.1 [31.3 kB]\n",
            "Get:28 http://archive.ubuntu.com/ubuntu bionic/universe amd64 libomp5 amd64 5.0.1-1 [234 kB]\n",
            "Get:29 http://archive.ubuntu.com/ubuntu bionic/universe amd64 libomp-dev amd64 5.0.1-1 [5,088 B]\n",
            "Fetched 7,158 kB in 3s (2,491 kB/s)\n",
            "Selecting previously unselected package libglew2.0:amd64.\n",
            "(Reading database ... 155639 files and directories currently installed.)\n",
            "Preparing to unpack .../00-libglew2.0_2.0.0-5_amd64.deb ...\n",
            "Unpacking libglew2.0:amd64 (2.0.0-5) ...\n",
            "Selecting previously unselected package libglew-dev:amd64.\n",
            "Preparing to unpack .../01-libglew-dev_2.0.0-5_amd64.deb ...\n",
            "Unpacking libglew-dev:amd64 (2.0.0-5) ...\n",
            "Selecting previously unselected package libglfw3:amd64.\n",
            "Preparing to unpack .../02-libglfw3_3.2.1-1_amd64.deb ...\n",
            "Unpacking libglfw3:amd64 (3.2.1-1) ...\n",
            "Selecting previously unselected package libglfw3-dev:amd64.\n",
            "Preparing to unpack .../03-libglfw3-dev_3.2.1-1_amd64.deb ...\n",
            "Unpacking libglfw3-dev:amd64 (3.2.1-1) ...\n",
            "Selecting previously unselected package libvulkan1:amd64.\n",
            "Preparing to unpack .../04-libvulkan1_1.1.126.0-2~gpu18.04.1_amd64.deb ...\n",
            "Unpacking libvulkan1:amd64 (1.1.126.0-2~gpu18.04.1) ...\n",
            "Selecting previously unselected package libvulkan-dev:amd64.\n",
            "Preparing to unpack .../05-libvulkan-dev_1.1.126.0-2~gpu18.04.1_amd64.deb ...\n",
            "Unpacking libvulkan-dev:amd64 (1.1.126.0-2~gpu18.04.1) ...\n",
            "Selecting previously unselected package libxcursor-dev:amd64.\n",
            "Preparing to unpack .../06-libxcursor-dev_1%3a1.1.15-1_amd64.deb ...\n",
            "Unpacking libxcursor-dev:amd64 (1:1.1.15-1) ...\n",
            "Selecting previously unselected package x11proto-xinerama-dev.\n",
            "Preparing to unpack .../07-x11proto-xinerama-dev_2018.4-4_all.deb ...\n",
            "Unpacking x11proto-xinerama-dev (2018.4-4) ...\n",
            "Selecting previously unselected package libxinerama-dev:amd64.\n",
            "Preparing to unpack .../08-libxinerama-dev_2%3a1.1.3-1_amd64.deb ...\n",
            "Unpacking libxinerama-dev:amd64 (2:1.1.3-1) ...\n",
            "Selecting previously unselected package x11proto-randr-dev.\n",
            "Preparing to unpack .../09-x11proto-randr-dev_2018.4-4_all.deb ...\n",
            "Unpacking x11proto-randr-dev (2018.4-4) ...\n",
            "Selecting previously unselected package libxrandr-dev:amd64.\n",
            "Preparing to unpack .../10-libxrandr-dev_2%3a1.5.1-1_amd64.deb ...\n",
            "Unpacking libxrandr-dev:amd64 (2:1.5.1-1) ...\n",
            "Selecting previously unselected package mesa-vulkan-drivers:amd64.\n",
            "Preparing to unpack .../11-mesa-vulkan-drivers_20.0.8-0ubuntu1~18.04.1_amd64.deb ...\n",
            "Unpacking mesa-vulkan-drivers:amd64 (20.0.8-0ubuntu1~18.04.1) ...\n",
            "Selecting previously unselected package python-pip-whl.\n",
            "Preparing to unpack .../12-python-pip-whl_9.0.1-2.3~ubuntu1.18.04.5_all.deb ...\n",
            "Unpacking python-pip-whl (9.0.1-2.3~ubuntu1.18.04.5) ...\n",
            "Selecting previously unselected package python3-asn1crypto.\n",
            "Preparing to unpack .../13-python3-asn1crypto_0.24.0-1_all.deb ...\n",
            "Unpacking python3-asn1crypto (0.24.0-1) ...\n",
            "Selecting previously unselected package python3-cffi-backend.\n",
            "Preparing to unpack .../14-python3-cffi-backend_1.11.5-1_amd64.deb ...\n",
            "Unpacking python3-cffi-backend (1.11.5-1) ...\n",
            "Selecting previously unselected package python3-crypto.\n",
            "Preparing to unpack .../15-python3-crypto_2.6.1-8ubuntu2_amd64.deb ...\n",
            "Unpacking python3-crypto (2.6.1-8ubuntu2) ...\n",
            "Selecting previously unselected package python3-idna.\n",
            "Preparing to unpack .../16-python3-idna_2.6-1_all.deb ...\n",
            "Unpacking python3-idna (2.6-1) ...\n",
            "Selecting previously unselected package python3-six.\n",
            "Preparing to unpack .../17-python3-six_1.11.0-2_all.deb ...\n",
            "Unpacking python3-six (1.11.0-2) ...\n",
            "Selecting previously unselected package python3-cryptography.\n",
            "Preparing to unpack .../18-python3-cryptography_2.1.4-1ubuntu1.4_amd64.deb ...\n",
            "Unpacking python3-cryptography (2.1.4-1ubuntu1.4) ...\n",
            "Selecting previously unselected package python3-secretstorage.\n",
            "Preparing to unpack .../19-python3-secretstorage_2.3.1-2_all.deb ...\n",
            "Unpacking python3-secretstorage (2.3.1-2) ...\n",
            "Selecting previously unselected package python3-keyring.\n",
            "Preparing to unpack .../20-python3-keyring_10.6.0-1_all.deb ...\n",
            "Unpacking python3-keyring (10.6.0-1) ...\n",
            "Selecting previously unselected package python3-keyrings.alt.\n",
            "Preparing to unpack .../21-python3-keyrings.alt_3.0-1_all.deb ...\n",
            "Unpacking python3-keyrings.alt (3.0-1) ...\n"
          ]
        }
      ],
      "source": [
        "!apt update && apt install build-essential git python3-dev python3-pip libopenexr-dev libxi-dev libglfw3-dev libglew-dev libomp-dev libxinerama-dev libxcursor-dev\n",
        "!pip install --upgrade cmake"
      ]
    },
    {
      "cell_type": "code",
      "execution_count": null,
      "metadata": {
        "id": "ijgdl-TUcxnd"
      },
      "outputs": [],
      "source": [
        "!git clone --recursive https://github.com/nvlabs/instant-ngp\n",
        "%cd instant-ngp"
      ]
    },
    {
      "cell_type": "code",
      "execution_count": null,
      "metadata": {
        "id": "B7E55zXYc1gD"
      },
      "outputs": [],
      "source": [
        "#%env TCNN_CUDA_ARCHITECTURES=75\n",
        "!cmake . -B build -DNGP_BUILD_WITH_GUI=OFF"
      ]
    },
    {
      "cell_type": "code",
      "execution_count": null,
      "metadata": {
        "id": "cpuhlQmJcDPJ"
      },
      "outputs": [],
      "source": [
        "!cmake --build build --config RelWithDebInfo -j `nproc`"
      ]
    },
    {
      "cell_type": "code",
      "execution_count": null,
      "metadata": {
        "id": "TRfrshaCdpY8"
      },
      "outputs": [],
      "source": [
        "!pip3 install -r requirements.txt"
      ]
    },
    {
      "cell_type": "code",
      "source": [
        "! /build/testbed "
      ],
      "metadata": {
        "id": "aijHZB0zJwWB",
        "outputId": "12c4f69d-8ae4-4c87-ffd7-a80002833846",
        "colab": {
          "base_uri": "https://localhost:8080/"
        }
      },
      "execution_count": null,
      "outputs": [
        {
          "output_type": "stream",
          "name": "stdout",
          "text": [
            "/bin/bash: /build/testbed: No such file or directory\n"
          ]
        }
      ]
    },
    {
      "cell_type": "markdown",
      "source": [
        "\n",
        "\n",
        "```\n",
        "#@title **SECOND (Optional):**\n",
        "#@markdown Anti shutdown colab (play and keep this colab tab open):\n",
        "! sleep 43200\n",
        "```\n",
        "\n",
        "\n"
      ],
      "metadata": {
        "id": "ieGHpOvc9F0A"
      }
    },
    {
      "cell_type": "code",
      "source": [
        "!./bin/record-sdl2 session.imdd"
      ],
      "metadata": {
        "id": "7S7_k2c-oyql",
        "outputId": "055ef616-baf5-4f75-810d-5d5a47f8cebd",
        "colab": {
          "base_uri": "https://localhost:8080/"
        }
      },
      "execution_count": null,
      "outputs": [
        {
          "output_type": "stream",
          "name": "stdout",
          "text": [
            "/bin/bash: ./bin/record-sdl2: No such file or directory\n"
          ]
        }
      ]
    },
    {
      "cell_type": "code",
      "source": [
        "!dir"
      ],
      "metadata": {
        "id": "PJ6jCO-psRTN",
        "outputId": "a4a0c7b3-0ea2-4f5e-ef5d-3236fd11b573",
        "colab": {
          "base_uri": "https://localhost:8080/"
        }
      },
      "execution_count": null,
      "outputs": [
        {
          "output_type": "stream",
          "name": "stdout",
          "text": [
            "instant-ngp  sample_data\n"
          ]
        }
      ]
    },
    {
      "cell_type": "code",
      "source": [
        ""
      ],
      "metadata": {
        "id": "3N8VXB_IsaZ2"
      },
      "execution_count": null,
      "outputs": []
    },
    {
      "cell_type": "code",
      "source": [
        "!mkdir build \n",
        "!cmake ..\n",
        "!make"
      ],
      "metadata": {
        "id": "Hwho3IhHpCeT",
        "outputId": "be9e84b3-2149-4cb4-ad14-96e13affb8dd",
        "colab": {
          "base_uri": "https://localhost:8080/"
        }
      },
      "execution_count": null,
      "outputs": [
        {
          "output_type": "stream",
          "name": "stdout",
          "text": [
            "mkdir: cannot create directory ‘build’: File exists\n",
            "\u001b[31mCMake Error at CMakeLists.txt:66 (add_subdirectory):\n",
            "  add_subdirectory given source \"third-party\" which is not an existing\n",
            "  directory.\n",
            "\n",
            "\u001b[0m\n",
            "\u001b[31mCMake Error at CMakeLists.txt:67 (add_subdirectory):\n",
            "  add_subdirectory given source \"src\" which is not an existing directory.\n",
            "\n",
            "\u001b[0m\n",
            "\u001b[31mCMake Error at CMakeLists.txt:70 (add_subdirectory):\n",
            "  add_subdirectory given source \"examples\" which is not an existing\n",
            "  directory.\n",
            "\n",
            "\u001b[0m\n",
            "\u001b[31mCMake Error at CMakeLists.txt:71 (add_subdirectory):\n",
            "  add_subdirectory given source \"tools\" which is not an existing directory.\n",
            "\n",
            "\u001b[0m\n",
            "-- Configuring incomplete, errors occurred!\n",
            "See also \"/content/instant-ngp/CMakeFiles/CMakeOutput.log\".\n",
            "See also \"/content/instant-ngp/CMakeFiles/CMakeError.log\".\n",
            "make: *** No targets specified and no makefile found.  Stop.\n"
          ]
        }
      ]
    },
    {
      "cell_type": "markdown",
      "source": [
        "*!/content/instant-ngp/build/testbed.render(10, 8, spp=8, linear=False)*"
      ],
      "metadata": {
        "id": "6EHHzXefuQ64"
      }
    },
    {
      "cell_type": "markdown",
      "source": [
        "#git clone https://github.com/ggerganov/imgui-ws --recursive\n",
        "cd imgui-ws && mkdir build && cd build\n",
        "cmake ..\n",
        "make"
      ],
      "metadata": {
        "id": "rOrvvyrLtRqt"
      }
    },
    {
      "cell_type": "code",
      "source": [
        "!git clone https://github.com/ggerganov/imgui-ws --recursive\n"
      ],
      "metadata": {
        "id": "8FjWTluftLsO",
        "outputId": "7322e61c-9e61-4bbf-c260-43d2cc31f346",
        "colab": {
          "base_uri": "https://localhost:8080/"
        }
      },
      "execution_count": null,
      "outputs": [
        {
          "output_type": "stream",
          "name": "stdout",
          "text": [
            "Cloning into 'imgui-ws'...\n",
            "remote: Enumerating objects: 636, done.\u001b[K\n",
            "remote: Counting objects:   1% (1/74)\u001b[K\rremote: Counting objects:   2% (2/74)\u001b[K\rremote: Counting objects:   4% (3/74)\u001b[K\rremote: Counting objects:   5% (4/74)\u001b[K\rremote: Counting objects:   6% (5/74)\u001b[K\rremote: Counting objects:   8% (6/74)\u001b[K\rremote: Counting objects:   9% (7/74)\u001b[K\rremote: Counting objects:  10% (8/74)\u001b[K\rremote: Counting objects:  12% (9/74)\u001b[K\rremote: Counting objects:  13% (10/74)\u001b[K\rremote: Counting objects:  14% (11/74)\u001b[K\rremote: Counting objects:  16% (12/74)\u001b[K\rremote: Counting objects:  17% (13/74)\u001b[K\rremote: Counting objects:  18% (14/74)\u001b[K\rremote: Counting objects:  20% (15/74)\u001b[K\rremote: Counting objects:  21% (16/74)\u001b[K\rremote: Counting objects:  22% (17/74)\u001b[K\rremote: Counting objects:  24% (18/74)\u001b[K\rremote: Counting objects:  25% (19/74)\u001b[K\rremote: Counting objects:  27% (20/74)\u001b[K\rremote: Counting objects:  28% (21/74)\u001b[K\rremote: Counting objects:  29% (22/74)\u001b[K\rremote: Counting objects:  31% (23/74)\u001b[K\rremote: Counting objects:  32% (24/74)\u001b[K\rremote: Counting objects:  33% (25/74)\u001b[K\rremote: Counting objects:  35% (26/74)\u001b[K\rremote: Counting objects:  36% (27/74)\u001b[K\rremote: Counting objects:  37% (28/74)\u001b[K\rremote: Counting objects:  39% (29/74)\u001b[K\rremote: Counting objects:  40% (30/74)\u001b[K\rremote: Counting objects:  41% (31/74)\u001b[K\rremote: Counting objects:  43% (32/74)\u001b[K\rremote: Counting objects:  44% (33/74)\u001b[K\rremote: Counting objects:  45% (34/74)\u001b[K\rremote: Counting objects:  47% (35/74)\u001b[K\rremote: Counting objects:  48% (36/74)\u001b[K\rremote: Counting objects:  50% (37/74)\u001b[K\rremote: Counting objects:  51% (38/74)\u001b[K\rremote: Counting objects:  52% (39/74)\u001b[K\rremote: Counting objects:  54% (40/74)\u001b[K\rremote: Counting objects:  55% (41/74)\u001b[K\rremote: Counting objects:  56% (42/74)\u001b[K\rremote: Counting objects:  58% (43/74)\u001b[K\rremote: Counting objects:  59% (44/74)\u001b[K\rremote: Counting objects:  60% (45/74)\u001b[K\rremote: Counting objects:  62% (46/74)\u001b[K\rremote: Counting objects:  63% (47/74)\u001b[K\rremote: Counting objects:  64% (48/74)\u001b[K\rremote: Counting objects:  66% (49/74)\u001b[K\rremote: Counting objects:  67% (50/74)\u001b[K\rremote: Counting objects:  68% (51/74)\u001b[K\rremote: Counting objects:  70% (52/74)\u001b[K\rremote: Counting objects:  71% (53/74)\u001b[K\rremote: Counting objects:  72% (54/74)\u001b[K\rremote: Counting objects:  74% (55/74)\u001b[K\rremote: Counting objects:  75% (56/74)\u001b[K\rremote: Counting objects:  77% (57/74)\u001b[K\rremote: Counting objects:  78% (58/74)\u001b[K\rremote: Counting objects:  79% (59/74)\u001b[K\rremote: Counting objects:  81% (60/74)\u001b[K\rremote: Counting objects:  82% (61/74)\u001b[K\rremote: Counting objects:  83% (62/74)\u001b[K\rremote: Counting objects:  85% (63/74)\u001b[K\rremote: Counting objects:  86% (64/74)\u001b[K\rremote: Counting objects:  87% (65/74)\u001b[K\rremote: Counting objects:  89% (66/74)\u001b[K\rremote: Counting objects:  90% (67/74)\u001b[K\rremote: Counting objects:  91% (68/74)\u001b[K\rremote: Counting objects:  93% (69/74)\u001b[K\rremote: Counting objects:  94% (70/74)\u001b[K\rremote: Counting objects:  95% (71/74)\u001b[K\rremote: Counting objects:  97% (72/74)\u001b[K\rremote: Counting objects:  98% (73/74)\u001b[K\rremote: Counting objects: 100% (74/74)\u001b[K\rremote: Counting objects: 100% (74/74), done.\u001b[K\n",
            "remote: Compressing objects: 100% (54/54), done.\u001b[K\n",
            "remote: Total 636 (delta 26), reused 42 (delta 18), pack-reused 562\u001b[K\n",
            "Receiving objects: 100% (636/636), 133.49 KiB | 2.72 MiB/s, done.\n",
            "Resolving deltas: 100% (363/363), done.\n",
            "Submodule 'imgui' (https://github.com/ocornut/imgui) registered for path 'third-party/imgui/imgui'\n",
            "Submodule 'incppect' (https://github.com/ggerganov/incppect) registered for path 'third-party/incppect'\n",
            "Cloning into '/content/imgui-ws/third-party/imgui/imgui'...\n",
            "remote: Enumerating objects: 44661, done.        \n",
            "remote: Counting objects: 100% (343/343), done.        \n",
            "remote: Compressing objects: 100% (115/115), done.        \n",
            "remote: Total 44661 (delta 265), reused 272 (delta 228), pack-reused 44318        \n",
            "Receiving objects: 100% (44661/44661), 81.16 MiB | 30.17 MiB/s, done.\n",
            "Resolving deltas: 100% (33992/33992), done.\n",
            "Cloning into '/content/imgui-ws/third-party/incppect'...\n",
            "remote: Enumerating objects: 367, done.        \n",
            "remote: Counting objects: 100% (98/98), done.        \n",
            "remote: Compressing objects: 100% (66/66), done.        \n",
            "remote: Total 367 (delta 42), reused 58 (delta 21), pack-reused 269        \n",
            "Receiving objects: 100% (367/367), 81.08 KiB | 2.80 MiB/s, done.\n",
            "Resolving deltas: 100% (195/195), done.\n",
            "Submodule path 'third-party/imgui/imgui': checked out 'fa2b318dd6190852a6fe7ebc952b6551e93899e0'\n",
            "Submodule path 'third-party/incppect': checked out 'ea0528467cc90ff401e4ba6f926e54fee8cc0ce8'\n",
            "Submodule 'third_party/uWebSockets' (https://github.com/uNetworking/uWebSockets) registered for path 'third-party/incppect/third_party/uWebSockets'\n",
            "Cloning into '/content/imgui-ws/third-party/incppect/third_party/uWebSockets'...\n",
            "remote: Enumerating objects: 8671, done.        \n",
            "remote: Counting objects: 100% (57/57), done.        \n",
            "remote: Compressing objects: 100% (26/26), done.        \n",
            "remote: Total 8671 (delta 32), reused 54 (delta 31), pack-reused 8614        \n",
            "Receiving objects: 100% (8671/8671), 4.15 MiB | 18.41 MiB/s, done.\n",
            "Resolving deltas: 100% (5821/5821), done.\n",
            "Submodule path 'third-party/incppect/third_party/uWebSockets': checked out '8f7d642f3ff7d9eb6ea7ee565afe5791c580fd73'\n",
            "Submodule 'uSockets' (https://github.com/uNetworking/uSockets.git) registered for path 'third-party/incppect/third_party/uWebSockets/uSockets'\n",
            "Cloning into '/content/imgui-ws/third-party/incppect/third_party/uWebSockets/uSockets'...\n",
            "remote: Enumerating objects: 2276, done.        \n",
            "remote: Counting objects: 100% (519/519), done.        \n",
            "remote: Compressing objects: 100% (211/211), done.        \n",
            "remote: Total 2276 (delta 349), reused 440 (delta 286), pack-reused 1757        \n",
            "Receiving objects: 100% (2276/2276), 795.70 KiB | 7.23 MiB/s, done.\n",
            "Resolving deltas: 100% (1462/1462), done.\n",
            "Submodule path 'third-party/incppect/third_party/uWebSockets/uSockets': checked out '2ed0584e0b7fac11a80886d36903517e3a5ef9c3'\n"
          ]
        }
      ]
    },
    {
      "cell_type": "code",
      "source": [
        "%cd imgui-ws "
      ],
      "metadata": {
        "id": "r9OtYh4ttWeF",
        "outputId": "c10da5c3-3c12-4fa4-8045-e5911596e3a0",
        "colab": {
          "base_uri": "https://localhost:8080/"
        }
      },
      "execution_count": null,
      "outputs": [
        {
          "output_type": "stream",
          "name": "stdout",
          "text": [
            "/content/imgui-ws\n"
          ]
        }
      ]
    },
    {
      "cell_type": "code",
      "source": [
        " !mkdir build "
      ],
      "metadata": {
        "id": "SU-2RiNdtlTW"
      },
      "execution_count": null,
      "outputs": []
    },
    {
      "cell_type": "code",
      "source": [
        "%cd build"
      ],
      "metadata": {
        "id": "Gu-Vnc70ttDl",
        "outputId": "cb7d7024-5ae8-4dca-e0f9-9be0a52415bb",
        "colab": {
          "base_uri": "https://localhost:8080/"
        }
      },
      "execution_count": null,
      "outputs": [
        {
          "output_type": "stream",
          "name": "stdout",
          "text": [
            "/content/imgui-ws/build\n"
          ]
        }
      ]
    },
    {
      "cell_type": "code",
      "source": [
        "!cmake .."
      ],
      "metadata": {
        "id": "eCi_iOHBtwDc",
        "outputId": "462733f0-141a-41c7-a3e0-2a99f4e78ea6",
        "colab": {
          "base_uri": "https://localhost:8080/"
        }
      },
      "execution_count": null,
      "outputs": [
        {
          "output_type": "stream",
          "name": "stdout",
          "text": [
            "-- The C compiler identification is GNU 7.5.0\n",
            "-- The CXX compiler identification is GNU 7.5.0\n",
            "-- Detecting C compiler ABI info\n",
            "-- Detecting C compiler ABI info - done\n",
            "-- Check for working C compiler: /usr/bin/cc - skipped\n",
            "-- Detecting C compile features\n",
            "-- Detecting C compile features - done\n",
            "-- Detecting CXX compiler ABI info\n",
            "-- Detecting CXX compiler ABI info - done\n",
            "-- Check for working CXX compiler: /usr/bin/c++ - skipped\n",
            "-- Detecting CXX compile features\n",
            "-- Detecting CXX compile features - done\n",
            "-- Looking for pthread.h\n",
            "-- Looking for pthread.h - found\n",
            "-- Performing Test CMAKE_HAVE_LIBC_PTHREAD\n",
            "-- Performing Test CMAKE_HAVE_LIBC_PTHREAD - Failed\n",
            "-- Looking for pthread_create in pthreads\n",
            "-- Looking for pthread_create in pthreads - not found\n",
            "-- Looking for pthread_create in pthread\n",
            "-- Looking for pthread_create in pthread - found\n",
            "-- Found Threads: TRUE  \n",
            "-- Found ZLIB: /usr/lib/x86_64-linux-gnu/libz.so (found version \"1.2.11\") \n",
            "-- Found OpenSSL: /usr/lib/x86_64-linux-gnu/libcrypto.so (found version \"1.1.1\")  \n",
            "-- Configuring done\n",
            "-- Generating done\n",
            "-- Build files have been written to: /content/imgui-ws/build\n"
          ]
        }
      ]
    },
    {
      "cell_type": "code",
      "source": [
        "!make"
      ],
      "metadata": {
        "id": "PwXY2Mywt9hQ",
        "outputId": "07744f1b-6589-4419-a7e4-58bc39d3ed00",
        "colab": {
          "base_uri": "https://localhost:8080/"
        }
      },
      "execution_count": null,
      "outputs": [
        {
          "output_type": "stream",
          "name": "stdout",
          "text": [
            "[  3%] \u001b[32mBuilding CXX object third-party/imgui/CMakeFiles/imgui.dir/imgui/imgui.cpp.o\u001b[0m\n",
            "[  7%] \u001b[32mBuilding CXX object third-party/imgui/CMakeFiles/imgui.dir/imgui/imgui_draw.cpp.o\u001b[0m\n",
            "[ 11%] \u001b[32mBuilding CXX object third-party/imgui/CMakeFiles/imgui.dir/imgui/imgui_demo.cpp.o\u001b[0m\n",
            "[ 14%] \u001b[32mBuilding CXX object third-party/imgui/CMakeFiles/imgui.dir/imgui/imgui_tables.cpp.o\u001b[0m\n",
            "[ 18%] \u001b[32mBuilding CXX object third-party/imgui/CMakeFiles/imgui.dir/imgui/imgui_widgets.cpp.o\u001b[0m\n",
            "[ 22%] \u001b[32m\u001b[1mLinking CXX static library libimgui.a\u001b[0m\n",
            "[ 22%] Built target imgui\n",
            "[ 25%] \u001b[32mBuilding C object third-party/incppect/third_party/CMakeFiles/uWS.dir/uWebSockets/uSockets/src/context.c.o\u001b[0m\n",
            "[ 29%] \u001b[32mBuilding C object third-party/incppect/third_party/CMakeFiles/uWS.dir/uWebSockets/uSockets/src/loop.c.o\u001b[0m\n",
            "[ 33%] \u001b[32mBuilding C object third-party/incppect/third_party/CMakeFiles/uWS.dir/uWebSockets/uSockets/src/socket.c.o\u001b[0m\n",
            "[ 37%] \u001b[32mBuilding C object third-party/incppect/third_party/CMakeFiles/uWS.dir/uWebSockets/uSockets/src/crypto/openssl.c.o\u001b[0m\n",
            "[ 40%] \u001b[32mBuilding C object third-party/incppect/third_party/CMakeFiles/uWS.dir/uWebSockets/uSockets/src/eventing/epoll_kqueue.c.o\u001b[0m\n",
            "[ 44%] \u001b[32mBuilding C object third-party/incppect/third_party/CMakeFiles/uWS.dir/uWebSockets/uSockets/src/eventing/gcd.c.o\u001b[0m\n",
            "[ 48%] \u001b[32m\u001b[1mLinking C shared library libuWS.so\u001b[0m\n",
            "[ 48%] Built target uWS\n",
            "[ 51%] \u001b[32mBuilding CXX object third-party/incppect/src/CMakeFiles/incppect.dir/incppect.cpp.o\u001b[0m\n",
            "[ 55%] \u001b[32m\u001b[1mLinking CXX shared library libincppect.so\u001b[0m\n",
            "[ 55%] Built target incppect\n",
            "[ 59%] \u001b[32mBuilding CXX object src/CMakeFiles/imgui-ws.dir/imgui-ws.cpp.o\u001b[0m\n",
            "[ 62%] \u001b[32mBuilding CXX object src/CMakeFiles/imgui-ws.dir/compressor-xor-rle-per-draw-list.cpp.o\u001b[0m\n",
            "[ 66%] \u001b[32mBuilding CXX object src/CMakeFiles/imgui-ws.dir/compressor-xor-rle-per-draw-list-with-vtx-offset.cpp.o\u001b[0m\n",
            "[ 70%] \u001b[32m\u001b[1mLinking CXX static library libimgui-ws.a\u001b[0m\n",
            "[ 70%] Built target imgui-ws\n",
            "[ 74%] \u001b[32mBuilding CXX object examples/basic-null/CMakeFiles/basic-null.dir/main.cpp.o\u001b[0m\n",
            "[ 77%] \u001b[32m\u001b[1mLinking CXX executable ../../bin/basic-null\u001b[0m\n",
            "[ 77%] Built target basic-null\n",
            "[ 81%] \u001b[32mBuilding CXX object examples/demo-null/CMakeFiles/demo-null.dir/main.cpp.o\u001b[0m\n",
            "[ 85%] \u001b[32m\u001b[1mLinking CXX executable ../../bin/demo-null\u001b[0m\n",
            "[ 85%] Built target demo-null\n",
            "[ 88%] \u001b[32mBuilding CXX object examples/textures-null/CMakeFiles/textures-null.dir/main.cpp.o\u001b[0m\n",
            "[ 92%] \u001b[32m\u001b[1mLinking CXX executable ../../bin/textures-null\u001b[0m\n",
            "[ 92%] Built target textures-null\n",
            "[ 96%] \u001b[32mBuilding CXX object tools/compressor-benchmark/CMakeFiles/compressor-benchmark.dir/main.cpp.o\u001b[0m\n",
            "[100%] \u001b[32m\u001b[1mLinking CXX executable ../../bin/compressor-benchmark\u001b[0m\n",
            "[100%] Built target compressor-benchmark\n"
          ]
        }
      ]
    },
    {
      "cell_type": "markdown",
      "source": [
        "\n",
        "# creat session\n",
        "\n"
      ],
      "metadata": {
        "id": "OuXDyLIVurbH"
      }
    },
    {
      "cell_type": "code",
      "source": [
        "!./bin/demo-null 5000"
      ],
      "metadata": {
        "id": "hF2ElYbJuoes",
        "outputId": "cee3682e-454b-4785-8472-fb1c4639022f",
        "colab": {
          "base_uri": "https://localhost:8080/"
        }
      },
      "execution_count": null,
      "outputs": [
        {
          "output_type": "stream",
          "name": "stdout",
          "text": [
            "Usage: ./bin/demo-null [port] [http-root]\n",
            "[incppect] running instance. serving HTTP from '../examples/demo-null'\n",
            "[incppect] listening on port 5000\n",
            "[incppect] http://localhost:5000/\n",
            "^C\n"
          ]
        }
      ]
    },
    {
      "cell_type": "code",
      "source": [
        "!./bin/replay-sdl2 session.imdd"
      ],
      "metadata": {
        "id": "mRlTBQZGym52",
        "outputId": "81c570d8-fed7-4147-9518-2b5a901d8a6a",
        "colab": {
          "base_uri": "https://localhost:8080/"
        }
      },
      "execution_count": null,
      "outputs": [
        {
          "output_type": "stream",
          "name": "stdout",
          "text": [
            "/bin/bash: ./bin/replay-sdl2: No such file or directory\n"
          ]
        }
      ]
    },
    {
      "cell_type": "code",
      "source": [
        "%cd instant-ngp"
      ],
      "metadata": {
        "id": "EwUXzDoi0xN-",
        "outputId": "9e5f17ca-6fc4-4559-c9ab-855c7a05340d",
        "colab": {
          "base_uri": "https://localhost:8080/"
        }
      },
      "execution_count": null,
      "outputs": [
        {
          "output_type": "stream",
          "name": "stdout",
          "text": [
            "/content/instant-ngp\n"
          ]
        }
      ]
    },
    {
      "cell_type": "code",
      "source": [
        "!python scripts/run.py -h"
      ],
      "metadata": {
        "id": "stmWA_tg1hJy",
        "outputId": "72a1c188-2fc9-4fe8-ce1d-a3b42884e0f5",
        "colab": {
          "base_uri": "https://localhost:8080/"
        }
      },
      "execution_count": null,
      "outputs": [
        {
          "output_type": "stream",
          "name": "stdout",
          "text": [
            "usage: run.py [-h] [--scene SCENE] [--mode [{nerf,sdf,image,volume}]]\n",
            "              [--network NETWORK] [--load_snapshot LOAD_SNAPSHOT]\n",
            "              [--save_snapshot SAVE_SNAPSHOT] [--nerf_compatibility]\n",
            "              [--test_transforms TEST_TRANSFORMS]\n",
            "              [--near_distance NEAR_DISTANCE] [--exposure EXPOSURE]\n",
            "              [--screenshot_transforms SCREENSHOT_TRANSFORMS]\n",
            "              [--screenshot_frames [SCREENSHOT_FRAMES [SCREENSHOT_FRAMES ...]]]\n",
            "              [--screenshot_dir SCREENSHOT_DIR]\n",
            "              [--screenshot_spp SCREENSHOT_SPP]\n",
            "              [--video_camera_path VIDEO_CAMERA_PATH]\n",
            "              [--video_camera_smoothing] [--video_fps VIDEO_FPS]\n",
            "              [--video_n_seconds VIDEO_N_SECONDS] [--video_spp VIDEO_SPP]\n",
            "              [--video_output VIDEO_OUTPUT] [--save_mesh SAVE_MESH]\n",
            "              [--marching_cubes_res MARCHING_CUBES_RES] [--width WIDTH]\n",
            "              [--height HEIGHT] [--gui] [--train] [--n_steps N_STEPS]\n",
            "              [--second_window] [--sharpen SHARPEN]\n",
            "\n",
            "Run neural graphics primitives testbed with additional configuration & output\n",
            "options\n",
            "\n",
            "optional arguments:\n",
            "  -h, --help            show this help message and exit\n",
            "  --scene SCENE, --training_data SCENE\n",
            "                        The scene to load. Can be the scene's name or a full\n",
            "                        path to the training data.\n",
            "  --mode [{nerf,sdf,image,volume}]\n",
            "                        Mode can be 'nerf', 'sdf', 'image' or 'volume'.\n",
            "                        Inferred from the scene if unspecified.\n",
            "  --network NETWORK     Path to the network config. Uses the scene's default\n",
            "                        if unspecified.\n",
            "  --load_snapshot LOAD_SNAPSHOT\n",
            "                        Load this snapshot before training. recommended\n",
            "                        extension: .msgpack\n",
            "  --save_snapshot SAVE_SNAPSHOT\n",
            "                        Save this snapshot after training. recommended\n",
            "                        extension: .msgpack\n",
            "  --nerf_compatibility  Matches parameters with original NeRF. Can cause\n",
            "                        slowness and worse results on some scenes.\n",
            "  --test_transforms TEST_TRANSFORMS\n",
            "                        Path to a nerf style transforms json from which we\n",
            "                        will compute PSNR.\n",
            "  --near_distance NEAR_DISTANCE\n",
            "                        Set the distance from the camera at which training\n",
            "                        rays start for nerf. <0 means use ngp default\n",
            "  --exposure EXPOSURE   Controls the brightness of the image. Positive numbers\n",
            "                        increase brightness, negative numbers decrease it.\n",
            "  --screenshot_transforms SCREENSHOT_TRANSFORMS\n",
            "                        Path to a nerf style transforms.json from which to\n",
            "                        save screenshots.\n",
            "  --screenshot_frames [SCREENSHOT_FRAMES [SCREENSHOT_FRAMES ...]]\n",
            "                        Which frame(s) to take screenshots of.\n",
            "  --screenshot_dir SCREENSHOT_DIR\n",
            "                        Which directory to output screenshots to.\n",
            "  --screenshot_spp SCREENSHOT_SPP\n",
            "                        Number of samples per pixel in screenshots.\n",
            "  --video_camera_path VIDEO_CAMERA_PATH\n",
            "                        The camera path to render.\n",
            "  --video_camera_smoothing\n",
            "                        Applies additional smoothing to the camera trajectory\n",
            "                        with the caveat that the endpoint of the camera path\n",
            "                        may not be reached.\n",
            "  --video_fps VIDEO_FPS\n",
            "                        Number of frames per second.\n",
            "  --video_n_seconds VIDEO_N_SECONDS\n",
            "                        Number of seconds the rendered video should be long.\n",
            "  --video_spp VIDEO_SPP\n",
            "                        Number of samples per pixel. A larger number means\n",
            "                        less noise, but slower rendering.\n",
            "  --video_output VIDEO_OUTPUT\n",
            "                        Filename of the output video.\n",
            "  --save_mesh SAVE_MESH\n",
            "                        Output a marching-cubes based mesh from the NeRF or\n",
            "                        SDF model. Supports OBJ and PLY format.\n",
            "  --marching_cubes_res MARCHING_CUBES_RES\n",
            "                        Sets the resolution for the marching cubes grid.\n",
            "  --width WIDTH, --screenshot_w WIDTH\n",
            "                        Resolution width of GUI and screenshots.\n",
            "  --height HEIGHT, --screenshot_h HEIGHT\n",
            "                        Resolution height of GUI and screenshots.\n",
            "  --gui                 Run the testbed GUI interactively.\n",
            "  --train               If the GUI is enabled, controls whether training\n",
            "                        starts immediately.\n",
            "  --n_steps N_STEPS     Number of steps to train for before quitting.\n",
            "  --second_window       Open a second window containing a copy of the main\n",
            "                        output.\n",
            "  --sharpen SHARPEN     Set amount of sharpening applied to NeRF training\n",
            "                        images.\n"
          ]
        }
      ]
    },
    {
      "cell_type": "markdown",
      "source": [
        "# export model&screenshots"
      ],
      "metadata": {
        "id": "4O6I6ASl8tOR"
      }
    },
    {
      "cell_type": "code",
      "source": [
        "!python scripts/run.py --scene data/nerf/fox/ --mode nerf --screenshot_dir /content/screenshots --save_mesh fox.ply --n_steps 1000"
      ],
      "metadata": {
        "id": "lFkDFmea5qsY",
        "outputId": "4a331429-41d9-477f-ee3c-04965dbd1c1d",
        "colab": {
          "base_uri": "https://localhost:8080/"
        }
      },
      "execution_count": null,
      "outputs": [
        {
          "output_type": "stream",
          "name": "stdout",
          "text": [
            "\u001b[0m17:24:02 \u001b[0;36mINFO     \u001b[0mLoading NeRF dataset from\u001b[K\u001b[0m\n",
            "17:24:02 \u001b[0;36mINFO     \u001b[0m  data/nerf/fox/transforms.json\u001b[K\u001b[0m\n",
            "17:24:02 \u001b[0;34mPROGRESS \u001b[0m[]   0% ( 0/50)  0s/inf\u001b[K\u001b[0m\u001b[0G17:24:02 \u001b[0;34mPROGRESS \u001b[0m[]   2% ( 1/50) 0s/1s\u001b[K\u001b[0m\u001b[0G17:24:02 \u001b[0;34mPROGRESS \u001b[0m[]   4% ( 2/50) 0s/0s\u001b[K\u001b[0m\u001b[0G17:24:02 \u001b[0;34mPROGRESS \u001b[0m[]   6% ( 3/50) 0s/0s\u001b[K\u001b[0m\u001b[0G17:24:02 \u001b[0;34mPROGRESS \u001b[0m[]   8% ( 4/50) 0s/0s\u001b[K\u001b[0m\u001b[0G17:24:02 \u001b[0;34mPROGRESS \u001b[0m[]  10% ( 5/50) 0s/0s\u001b[K\u001b[0m\u001b[0G17:24:02 \u001b[0;34mPROGRESS \u001b[0m[]  12% ( 6/50) 0s/0s\u001b[K\u001b[0m\u001b[0G17:24:02 \u001b[0;34mPROGRESS \u001b[0m[]  14% ( 7/50) 0s/0s\u001b[K\u001b[0m\u001b[0G17:24:02 \u001b[0;34mPROGRESS \u001b[0m[]  16% ( 8/50) 0s/0s\u001b[K\u001b[0m\u001b[0G17:24:02 \u001b[0;34mPROGRESS \u001b[0m[]  18% ( 9/50) 0s/0s\u001b[K\u001b[0m\u001b[0G17:24:02 \u001b[0;34mPROGRESS \u001b[0m[]  20% (10/50) 0s/0s\u001b[K\u001b[0m\u001b[0G17:24:02 \u001b[0;34mPROGRESS \u001b[0m[]  22% (11/50) 0s/0s\u001b[K\u001b[0m\u001b[0G17:24:02 \u001b[0;34mPROGRESS \u001b[0m[]  24% (12/50) 0s/0s\u001b[K\u001b[0m\u001b[0G17:24:02 \u001b[0;34mPROGRESS \u001b[0m[]  26% (13/50) 0s/0s\u001b[K\u001b[0m\u001b[0G17:24:02 \u001b[0;34mPROGRESS \u001b[0m[]  28% (14/50) 0s/0s\u001b[K\u001b[0m\u001b[0G17:24:02 \u001b[0;34mPROGRESS \u001b[0m[]  30% (15/50) 0s/0s\u001b[K\u001b[0m\u001b[0G17:24:02 \u001b[0;34mPROGRESS \u001b[0m[]  32% (16/50) 0s/0s\u001b[K\u001b[0m\u001b[0G17:24:02 \u001b[0;34mPROGRESS \u001b[0m[]  34% (17/50) 0s/0s\u001b[K\u001b[0m\u001b[0G17:24:02 \u001b[0;34mPROGRESS \u001b[0m[]  36% (18/50) 0s/0s\u001b[K\u001b[0m\u001b[0G17:24:02 \u001b[0;34mPROGRESS \u001b[0m[]  38% (19/50) 0s/0s\u001b[K\u001b[0m\u001b[0G17:24:02 \u001b[0;34mPROGRESS \u001b[0m[]  40% (20/50) 0s/0s\u001b[K\u001b[0m\u001b[0G17:24:02 \u001b[0;34mPROGRESS \u001b[0m[]  42% (21/50) 0s/0s\u001b[K\u001b[0m\u001b[0G17:24:02 \u001b[0;34mPROGRESS \u001b[0m[]  44% (22/50) 0s/0s\u001b[K\u001b[0m\u001b[0G17:24:02 \u001b[0;34mPROGRESS \u001b[0m[]  46% (23/50) 0s/0s\u001b[K\u001b[0m\u001b[0G17:24:02 \u001b[0;34mPROGRESS \u001b[0m[]  48% (24/50) 0s/0s\u001b[K\u001b[0m\u001b[0G17:24:02 \u001b[0;34mPROGRESS \u001b[0m[]  50% (25/50) 0s/0s\u001b[K\u001b[0m\u001b[0G17:24:02 \u001b[0;34mPROGRESS \u001b[0m[]  52% (26/50) 0s/0s\u001b[K\u001b[0m\u001b[0G17:24:02 \u001b[0;34mPROGRESS \u001b[0m[]  54% (27/50) 0s/0s\u001b[K\u001b[0m\u001b[0G17:24:02 \u001b[0;34mPROGRESS \u001b[0m[]  56% (28/50) 0s/0s\u001b[K\u001b[0m\u001b[0G17:24:02 \u001b[0;34mPROGRESS \u001b[0m[]  58% (29/50) 0s/0s\u001b[K\u001b[0m\u001b[0G17:24:02 \u001b[0;34mPROGRESS \u001b[0m[]  60% (30/50) 0s/0s\u001b[K\u001b[0m\u001b[0G17:24:02 \u001b[0;34mPROGRESS \u001b[0m[]  62% (31/50) 0s/0s\u001b[K\u001b[0m\u001b[0G17:24:02 \u001b[0;34mPROGRESS \u001b[0m[]  64% (32/50) 0s/0s\u001b[K\u001b[0m\u001b[0G17:24:02 \u001b[0;34mPROGRESS \u001b[0m[]  66% (33/50) 0s/0s\u001b[K\u001b[0m\u001b[0G17:24:02 \u001b[0;34mPROGRESS \u001b[0m[]  68% (34/50) 0s/0s\u001b[K\u001b[0m\u001b[0G17:24:02 \u001b[0;34mPROGRESS \u001b[0m[]  70% (35/50) 0s/0s\u001b[K\u001b[0m\u001b[0G17:24:02 \u001b[0;34mPROGRESS \u001b[0m[]  72% (36/50) 0s/0s\u001b[K\u001b[0m\u001b[0G17:24:02 \u001b[0;34mPROGRESS \u001b[0m[]  74% (37/50) 0s/0s\u001b[K\u001b[0m\u001b[0G17:24:02 \u001b[0;34mPROGRESS \u001b[0m[]  76% (38/50) 0s/0s\u001b[K\u001b[0m\u001b[0G17:24:02 \u001b[0;34mPROGRESS \u001b[0m[]  78% (39/50) 0s/0s\u001b[K\u001b[0m\u001b[0G17:24:02 \u001b[0;34mPROGRESS \u001b[0m[]  80% (40/50) 0s/0s\u001b[K\u001b[0m\u001b[0G17:24:02 \u001b[0;34mPROGRESS \u001b[0m[]  82% (41/50) 0s/0s\u001b[K\u001b[0m\u001b[0G17:24:02 \u001b[0;34mPROGRESS \u001b[0m[]  84% (42/50) 0s/0s\u001b[K\u001b[0m\u001b[0G17:24:02 \u001b[0;34mPROGRESS \u001b[0m[]  86% (43/50) 0s/0s\u001b[K\u001b[0m\u001b[0G17:24:02 \u001b[0;34mPROGRESS \u001b[0m[]  88% (44/50) 0s/0s\u001b[K\u001b[0m\u001b[0G17:24:02 \u001b[0;34mPROGRESS \u001b[0m[]  90% (45/50) 0s/0s\u001b[K\u001b[0m\u001b[0G17:24:02 \u001b[0;34mPROGRESS \u001b[0m[]  92% (46/50) 0s/0s\u001b[K\u001b[0m\u001b[0G17:24:02 \u001b[0;34mPROGRESS \u001b[0m[]  94% (47/50) 0s/0s\u001b[K\u001b[0m\u001b[0G17:24:02 \u001b[0;34mPROGRESS \u001b[0m[]  96% (48/50) 0s/0s\u001b[K\u001b[0m\u001b[0G17:24:02 \u001b[0;34mPROGRESS \u001b[0m[]  98% (49/50) 0s/0s\u001b[K\u001b[0m\u001b[0G17:24:02 \u001b[0;34mPROGRESS \u001b[0m[] 100% (50/50) 0s/0s\u001b[K\u001b[0m\u001b[0G17:24:02 \u001b[0;32mSUCCESS  \u001b[0mLoaded 50 images after 0s\u001b[K\u001b[0m\n",
            "17:24:02 \u001b[0;36mINFO     \u001b[0m  cam_aabb=[min=[1.0229,-1.33309,-0.378748], max=[2.46175,1.00721,1.41295]]\u001b[K\u001b[0m\n",
            "17:24:03 \u001b[0;36mINFO     \u001b[0mLoading network config from: /content/instant-ngp/configs/nerf/base.json\u001b[K\u001b[0m\n",
            "17:24:03 \u001b[0;36mINFO     \u001b[0mGridEncoding:  Nmin=16 b=1.51572 F=2 T=2^19 L=16\u001b[K\u001b[0m\n",
            "17:24:03 \u001b[0;36mINFO     \u001b[0mDensity model: 3--[HashGrid]-->32--[FullyFusedMLP(neurons=64,layers=3)]-->1\u001b[K\u001b[0m\n",
            "17:24:03 \u001b[0;36mINFO     \u001b[0mColor model:   3--[Composite]-->16+16--[FullyFusedMLP(neurons=64,layers=4)]-->3\u001b[K\u001b[0m\n",
            "17:24:03 \u001b[0;36mINFO     \u001b[0m  total_encoding_params=13074912 total_network_params=10240\u001b[K\u001b[0m\n",
            "Training: 100% 9997/10000 [03:56<00:00, 42.35step/s, loss=0.000462]\n",
            "Generating mesh via marching cubes and saving to fox.ply. Resolution=[256,256,256]\n",
            "17:27:59 \u001b[0;36mINFO     \u001b[0m#vertices=3042473 #triangles=5910554\u001b[K\u001b[0m\n",
            "Rendering /content/screenshots/data/nerf/fox/_base.png\n",
            "\u001b[0m"
          ]
        }
      ]
    },
    {
      "cell_type": "code",
      "source": [
        ""
      ],
      "metadata": {
        "id": "MDXMTRLY7NOp",
        "outputId": "2246b716-dc49-4bd4-8922-541902eefc5b",
        "colab": {
          "base_uri": "https://localhost:8080/"
        }
      },
      "execution_count": null,
      "outputs": [
        {
          "output_type": "stream",
          "name": "stdout",
          "text": [
            "\u001b[0m17:23:12 \u001b[0;36mINFO     \u001b[0mLoading NeRF dataset from\u001b[K\u001b[0m\n",
            "17:23:12 \u001b[0;36mINFO     \u001b[0m  data/nerf/fox/transforms.json\u001b[K\u001b[0m\n",
            "17:23:12 \u001b[0;34mPROGRESS \u001b[0m[]   0% ( 0/50)  0s/inf\u001b[K\u001b[0m\u001b[0G17:23:12 \u001b[0;34mPROGRESS \u001b[0m[]   2% ( 1/50) 0s/0s\u001b[K\u001b[0m\u001b[0G17:23:12 \u001b[0;34mPROGRESS \u001b[0m[]   4% ( 2/50) 0s/0s\u001b[K\u001b[0m\u001b[0G17:23:13 \u001b[0;34mPROGRESS \u001b[0m[]   6% ( 3/50) 0s/0s\u001b[K\u001b[0m\u001b[0G17:23:13 \u001b[0;34mPROGRESS \u001b[0m[]   8% ( 4/50) 0s/0s\u001b[K\u001b[0m\u001b[0G17:23:13 \u001b[0;34mPROGRESS \u001b[0m[]  10% ( 5/50) 0s/0s\u001b[K\u001b[0m\u001b[0G17:23:13 \u001b[0;34mPROGRESS \u001b[0m[]  12% ( 6/50) 0s/0s\u001b[K\u001b[0m\u001b[0G17:23:13 \u001b[0;34mPROGRESS \u001b[0m[]  14% ( 7/50) 0s/0s\u001b[K\u001b[0m\u001b[0G17:23:13 \u001b[0;34mPROGRESS \u001b[0m[]  16% ( 8/50) 0s/0s\u001b[K\u001b[0m\u001b[0G17:23:13 \u001b[0;34mPROGRESS \u001b[0m[]  18% ( 9/50) 0s/0s\u001b[K\u001b[0m\u001b[0G17:23:13 \u001b[0;34mPROGRESS \u001b[0m[]  20% (10/50) 0s/0s\u001b[K\u001b[0m\u001b[0G17:23:13 \u001b[0;34mPROGRESS \u001b[0m[]  22% (11/50) 0s/0s\u001b[K\u001b[0m\u001b[0G17:23:13 \u001b[0;34mPROGRESS \u001b[0m[]  24% (12/50) 0s/0s\u001b[K\u001b[0m\u001b[0G17:23:13 \u001b[0;34mPROGRESS \u001b[0m[]  26% (13/50) 0s/0s\u001b[K\u001b[0m\u001b[0G17:23:13 \u001b[0;34mPROGRESS \u001b[0m[]  28% (14/50) 0s/0s\u001b[K\u001b[0m\u001b[0G17:23:13 \u001b[0;34mPROGRESS \u001b[0m[]  30% (15/50) 0s/0s\u001b[K\u001b[0m\u001b[0G17:23:13 \u001b[0;34mPROGRESS \u001b[0m[]  32% (16/50) 0s/0s\u001b[K\u001b[0m\u001b[0G17:23:13 \u001b[0;34mPROGRESS \u001b[0m[]  34% (17/50) 0s/0s\u001b[K\u001b[0m\u001b[0G17:23:13 \u001b[0;34mPROGRESS \u001b[0m[]  36% (18/50) 0s/0s\u001b[K\u001b[0m\u001b[0G17:23:13 \u001b[0;34mPROGRESS \u001b[0m[]  38% (19/50) 0s/0s\u001b[K\u001b[0m\u001b[0G17:23:13 \u001b[0;34mPROGRESS \u001b[0m[]  40% (20/50) 0s/0s\u001b[K\u001b[0m\u001b[0G17:23:13 \u001b[0;34mPROGRESS \u001b[0m[]  42% (21/50) 0s/0s\u001b[K\u001b[0m\u001b[0G17:23:13 \u001b[0;34mPROGRESS \u001b[0m[]  44% (22/50) 0s/0s\u001b[K\u001b[0m\u001b[0G17:23:13 \u001b[0;34mPROGRESS \u001b[0m[]  46% (23/50) 0s/0s\u001b[K\u001b[0m\u001b[0G17:23:13 \u001b[0;34mPROGRESS \u001b[0m[]  48% (24/50) 0s/0s\u001b[K\u001b[0m\u001b[0G17:23:13 \u001b[0;34mPROGRESS \u001b[0m[]  50% (25/50) 0s/0s\u001b[K\u001b[0m\u001b[0G17:23:13 \u001b[0;34mPROGRESS \u001b[0m[]  52% (26/50) 0s/0s\u001b[K\u001b[0m\u001b[0G17:23:13 \u001b[0;34mPROGRESS \u001b[0m[]  54% (27/50) 0s/0s\u001b[K\u001b[0m\u001b[0G17:23:13 \u001b[0;34mPROGRESS \u001b[0m[]  56% (28/50) 0s/0s\u001b[K\u001b[0m\u001b[0G17:23:13 \u001b[0;34mPROGRESS \u001b[0m[]  58% (29/50) 0s/0s\u001b[K\u001b[0m\u001b[0G17:23:13 \u001b[0;34mPROGRESS \u001b[0m[]  60% (30/50) 0s/0s\u001b[K\u001b[0m\u001b[0G17:23:13 \u001b[0;34mPROGRESS \u001b[0m[]  62% (31/50) 0s/0s\u001b[K\u001b[0m\u001b[0G17:23:13 \u001b[0;34mPROGRESS \u001b[0m[]  64% (32/50) 0s/0s\u001b[K\u001b[0m\u001b[0G17:23:13 \u001b[0;34mPROGRESS \u001b[0m[]  66% (33/50) 0s/0s\u001b[K\u001b[0m\u001b[0G17:23:13 \u001b[0;34mPROGRESS \u001b[0m[]  68% (34/50) 0s/0s\u001b[K\u001b[0m\u001b[0G17:23:13 \u001b[0;34mPROGRESS \u001b[0m[]  70% (35/50) 0s/0s\u001b[K\u001b[0m\u001b[0G17:23:13 \u001b[0;34mPROGRESS \u001b[0m[]  72% (36/50) 0s/0s\u001b[K\u001b[0m\u001b[0G17:23:13 \u001b[0;34mPROGRESS \u001b[0m[]  74% (37/50) 0s/0s\u001b[K\u001b[0m\u001b[0G17:23:13 \u001b[0;34mPROGRESS \u001b[0m[]  76% (38/50) 0s/0s\u001b[K\u001b[0m\u001b[0G17:23:13 \u001b[0;34mPROGRESS \u001b[0m[]  78% (39/50) 0s/0s\u001b[K\u001b[0m\u001b[0G17:23:13 \u001b[0;34mPROGRESS \u001b[0m[]  80% (40/50) 0s/0s\u001b[K\u001b[0m\u001b[0G17:23:13 \u001b[0;34mPROGRESS \u001b[0m[]  82% (41/50) 0s/0s\u001b[K\u001b[0m\u001b[0G17:23:13 \u001b[0;34mPROGRESS \u001b[0m[]  84% (42/50) 0s/0s\u001b[K\u001b[0m\u001b[0G17:23:13 \u001b[0;34mPROGRESS \u001b[0m[]  86% (43/50) 0s/0s\u001b[K\u001b[0m\u001b[0G17:23:13 \u001b[0;34mPROGRESS \u001b[0m[]  88% (44/50) 0s/0s\u001b[K\u001b[0m\u001b[0G17:23:13 \u001b[0;34mPROGRESS \u001b[0m[]  90% (45/50) 0s/0s\u001b[K\u001b[0m\u001b[0G17:23:13 \u001b[0;34mPROGRESS \u001b[0m[]  92% (46/50) 0s/0s\u001b[K\u001b[0m\u001b[0G17:23:13 \u001b[0;34mPROGRESS \u001b[0m[]  94% (47/50) 0s/0s\u001b[K\u001b[0m\u001b[0G17:23:13 \u001b[0;34mPROGRESS \u001b[0m[]  96% (48/50) 0s/0s\u001b[K\u001b[0m\u001b[0G17:23:13 \u001b[0;34mPROGRESS \u001b[0m[]  98% (49/50) 0s/0s\u001b[K\u001b[0m\u001b[0G17:23:13 \u001b[0;34mPROGRESS \u001b[0m[] 100% (50/50) 0s/0s\u001b[K\u001b[0m\u001b[0G17:23:13 \u001b[0;32mSUCCESS  \u001b[0mLoaded 50 images after 0s\u001b[K\u001b[0m\n",
            "17:23:13 \u001b[0;36mINFO     \u001b[0m  cam_aabb=[min=[1.0229,-1.33309,-0.378748], max=[2.46175,1.00721,1.41295]]\u001b[K\u001b[0m\n",
            "Loading snapshot  data/nerf/fox/base.msgpack\n",
            "17:23:13 \u001b[0;36mINFO     \u001b[0mLoading network config from: data/nerf/fox/base.msgpack\u001b[K\u001b[0m\n"
          ]
        }
      ]
    },
    {
      "cell_type": "code",
      "source": [
        "from google.colab import drive\n",
        "drive.mount('/content/drive')"
      ],
      "metadata": {
        "id": "QlkqUBgc-sOi",
        "outputId": "eee7fb4d-0d10-448f-bad7-e6912f8c4d73",
        "colab": {
          "base_uri": "https://localhost:8080/"
        }
      },
      "execution_count": null,
      "outputs": [
        {
          "output_type": "stream",
          "name": "stdout",
          "text": [
            "Mounted at /content/drive\n"
          ]
        }
      ]
    },
    {
      "cell_type": "code",
      "source": [
        "!cp /content/instant-ngp/data/nerf/mic/train/* /content/instant-ngp/data/nerf/mic/images"
      ],
      "metadata": {
        "id": "YBCdO4nbBVsZ"
      },
      "execution_count": null,
      "outputs": []
    },
    {
      "cell_type": "code",
      "source": [
        "!python scripts/run.py --scene data/nerf/mic/ --mode nerf --screenshot_dir /content/screenshots --save_mesh mic.ply --n_steps 1000"
      ],
      "metadata": {
        "id": "F1k-NajPA0ER",
        "outputId": "7961c84e-3c77-41ea-e134-6271e438cf03",
        "colab": {
          "base_uri": "https://localhost:8080/"
        }
      },
      "execution_count": null,
      "outputs": [
        {
          "output_type": "stream",
          "name": "stdout",
          "text": [
            "\u001b[0m17:51:44 \u001b[0;36mINFO     \u001b[0mLoading NeRF dataset from\u001b[K\u001b[0m\n",
            "17:51:44 \u001b[0;36mINFO     \u001b[0m  data/nerf/mic/transforms_test.json\u001b[K\u001b[0m\n",
            "17:51:44 \u001b[0;36mINFO     \u001b[0m  data/nerf/mic/transforms_val.json\u001b[K\u001b[0m\n",
            "17:51:44 \u001b[0;36mINFO     \u001b[0m  data/nerf/mic/transforms_train.json\u001b[K\u001b[0m\n",
            "17:51:44 \u001b[0;34mPROGRESS \u001b[0m[]   0% (  0/400)  0s/inf\u001b[K\u001b[0m\u001b[0G17:51:44 \u001b[0;34mPROGRESS \u001b[0m[]   0% (  1/400) 0s/4s\u001b[K\u001b[0m\u001b[0G17:51:44 \u001b[0;34mPROGRESS \u001b[0m[]   1% (  2/400) 0s/5s\u001b[K\u001b[0m\u001b[0G17:51:44 \u001b[0;34mPROGRESS \u001b[0m[]   1% (  3/400) 0s/4s\u001b[K\u001b[0m\u001b[0G17:51:44 \u001b[0;34mPROGRESS \u001b[0m[]   1% (  4/400) 0s/4s\u001b[K\u001b[0m\u001b[0G17:51:44 \u001b[0;34mPROGRESS \u001b[0m[]   1% (  5/400) 0s/3s\u001b[K\u001b[0m\u001b[0G17:51:44 \u001b[0;34mPROGRESS \u001b[0m[]   2% (  6/400) 0s/3s\u001b[K\u001b[0m\u001b[0G17:51:44 \u001b[0;34mPROGRESS \u001b[0m[]   2% (  7/400) 0s/3s\u001b[K\u001b[0m\u001b[0G17:51:44 \u001b[0;34mPROGRESS \u001b[0m[]   2% (  8/400) 0s/3s\u001b[K\u001b[0m\u001b[0G17:51:44 \u001b[0;34mPROGRESS \u001b[0m[]   2% (  9/400) 0s/3s\u001b[K\u001b[0m\u001b[0G17:51:44 \u001b[0;34mPROGRESS \u001b[0m[]   3% ( 10/400) 0s/3s\u001b[K\u001b[0m\u001b[0G17:51:44 \u001b[0;34mPROGRESS \u001b[0m[]   3% ( 11/400) 0s/3s\u001b[K\u001b[0m\u001b[0G17:51:44 \u001b[0;34mPROGRESS \u001b[0m[]   3% ( 12/400) 0s/3s\u001b[K\u001b[0m\u001b[0G17:51:44 \u001b[0;34mPROGRESS \u001b[0m[]   3% ( 13/400) 0s/3s\u001b[K\u001b[0m\u001b[0G17:51:44 \u001b[0;34mPROGRESS \u001b[0m[]   4% ( 14/400) 0s/3s\u001b[K\u001b[0m\u001b[0G17:51:44 \u001b[0;34mPROGRESS \u001b[0m[]   4% ( 15/400) 0s/3s\u001b[K\u001b[0m\u001b[0G17:51:44 \u001b[0;34mPROGRESS \u001b[0m[]   4% ( 16/400) 0s/3s\u001b[K\u001b[0m\u001b[0G17:51:44 \u001b[0;34mPROGRESS \u001b[0m[]   4% ( 17/400) 0s/3s\u001b[K\u001b[0m\u001b[0G17:51:44 \u001b[0;34mPROGRESS \u001b[0m[]   5% ( 18/400) 0s/3s\u001b[K\u001b[0m\u001b[0G17:51:44 \u001b[0;34mPROGRESS \u001b[0m[]   5% ( 19/400) 0s/3s\u001b[K\u001b[0m\u001b[0G17:51:44 \u001b[0;34mPROGRESS \u001b[0m[]   5% ( 20/400) 0s/2s\u001b[K\u001b[0m\u001b[0G17:51:44 \u001b[0;34mPROGRESS \u001b[0m[]   5% ( 21/400) 0s/3s\u001b[K\u001b[0m\u001b[0G17:51:44 \u001b[0;34mPROGRESS \u001b[0m[]   6% ( 22/400) 0s/2s\u001b[K\u001b[0m\u001b[0G17:51:44 \u001b[0;34mPROGRESS \u001b[0m[]   6% ( 23/400) 0s/3s\u001b[K\u001b[0m\u001b[0G17:51:44 \u001b[0;34mPROGRESS \u001b[0m[]   6% ( 24/400) 0s/3s\u001b[K\u001b[0m\u001b[0G17:51:44 \u001b[0;34mPROGRESS \u001b[0m[]   6% ( 25/400) 0s/3s\u001b[K\u001b[0m\u001b[0G17:51:44 \u001b[0;34mPROGRESS \u001b[0m[]   7% ( 26/400) 0s/3s\u001b[K\u001b[0m\u001b[0G17:51:44 \u001b[0;34mPROGRESS \u001b[0m[]   7% ( 27/400) 0s/3s\u001b[K\u001b[0m\u001b[0G17:51:44 \u001b[0;34mPROGRESS \u001b[0m[]   7% ( 28/400) 0s/3s\u001b[K\u001b[0m\u001b[0G17:51:44 \u001b[0;34mPROGRESS \u001b[0m[]   7% ( 29/400) 0s/3s\u001b[K\u001b[0m\u001b[0G17:51:44 \u001b[0;34mPROGRESS \u001b[0m[]   8% ( 30/400) 0s/3s\u001b[K\u001b[0m\u001b[0G17:51:44 \u001b[0;34mPROGRESS \u001b[0m[]   8% ( 31/400) 0s/2s\u001b[K\u001b[0m\u001b[0G17:51:44 \u001b[0;34mPROGRESS \u001b[0m[]   8% ( 32/400) 0s/3s\u001b[K\u001b[0m\u001b[0G17:51:44 \u001b[0;34mPROGRESS \u001b[0m[]   8% ( 33/400) 0s/3s\u001b[K\u001b[0m\u001b[0G17:51:44 \u001b[0;34mPROGRESS \u001b[0m[]   9% ( 34/400) 0s/3s\u001b[K\u001b[0m\u001b[0G17:51:44 \u001b[0;34mPROGRESS \u001b[0m[]   9% ( 35/400) 0s/3s\u001b[K\u001b[0m\u001b[0G17:51:44 \u001b[0;34mPROGRESS \u001b[0m[]   9% ( 36/400) 0s/3s\u001b[K\u001b[0m\u001b[0G17:51:44 \u001b[0;34mPROGRESS \u001b[0m[]   9% ( 37/400) 0s/3s\u001b[K\u001b[0m\u001b[0G17:51:44 \u001b[0;34mPROGRESS \u001b[0m[]  10% ( 38/400) 0s/3s\u001b[K\u001b[0m\u001b[0G17:51:44 \u001b[0;34mPROGRESS \u001b[0m[]  10% ( 39/400) 0s/3s\u001b[K\u001b[0m\u001b[0G17:51:44 \u001b[0;34mPROGRESS \u001b[0m[]  10% ( 40/400) 0s/3s\u001b[K\u001b[0m\u001b[0G17:51:44 \u001b[0;34mPROGRESS \u001b[0m[]  10% ( 41/400) 0s/3s\u001b[K\u001b[0m\u001b[0G17:51:44 \u001b[0;34mPROGRESS \u001b[0m[]  11% ( 42/400) 0s/3s\u001b[K\u001b[0m\u001b[0G17:51:45 \u001b[0;34mPROGRESS \u001b[0m[]  11% ( 43/400) 0s/3s\u001b[K\u001b[0m\u001b[0G17:51:45 \u001b[0;34mPROGRESS \u001b[0m[]  11% ( 44/400) 0s/3s\u001b[K\u001b[0m\u001b[0G17:51:45 \u001b[0;34mPROGRESS \u001b[0m[]  11% ( 45/400) 0s/3s\u001b[K\u001b[0m\u001b[0G17:51:45 \u001b[0;34mPROGRESS \u001b[0m[]  12% ( 46/400) 0s/3s\u001b[K\u001b[0m\u001b[0G17:51:45 \u001b[0;34mPROGRESS \u001b[0m[]  12% ( 47/400) 0s/3s\u001b[K\u001b[0m\u001b[0G17:51:45 \u001b[0;34mPROGRESS \u001b[0m[]  12% ( 48/400) 0s/3s\u001b[K\u001b[0m\u001b[0G17:51:45 \u001b[0;34mPROGRESS \u001b[0m[]  12% ( 49/400) 0s/3s\u001b[K\u001b[0m\u001b[0G17:51:45 \u001b[0;34mPROGRESS \u001b[0m[]  13% ( 50/400) 0s/3s\u001b[K\u001b[0m\u001b[0G17:51:45 \u001b[0;34mPROGRESS \u001b[0m[]  13% ( 51/400) 0s/3s\u001b[K\u001b[0m\u001b[0G17:51:45 \u001b[0;34mPROGRESS \u001b[0m[]  13% ( 52/400) 0s/3s\u001b[K\u001b[0m\u001b[0G17:51:45 \u001b[0;34mPROGRESS \u001b[0m[]  13% ( 53/400) 0s/3s\u001b[K\u001b[0m\u001b[0G17:51:45 \u001b[0;34mPROGRESS \u001b[0m[]  14% ( 54/400) 0s/3s\u001b[K\u001b[0m\u001b[0G17:51:45 \u001b[0;34mPROGRESS \u001b[0m[]  14% ( 55/400) 0s/3s\u001b[K\u001b[0m\u001b[0G17:51:45 \u001b[0;34mPROGRESS \u001b[0m[]  14% ( 56/400) 0s/3s\u001b[K\u001b[0m\u001b[0G17:51:45 \u001b[0;34mPROGRESS \u001b[0m[]  14% ( 57/400) 0s/3s\u001b[K\u001b[0m\u001b[0G17:51:45 \u001b[0;34mPROGRESS \u001b[0m[]  14% ( 58/400) 0s/3s\u001b[K\u001b[0m\u001b[0G17:51:45 \u001b[0;34mPROGRESS \u001b[0m[]  15% ( 59/400) 0s/3s\u001b[K\u001b[0m\u001b[0G17:51:45 \u001b[0;34mPROGRESS \u001b[0m[]  15% ( 60/400) 0s/3s\u001b[K\u001b[0m\u001b[0G17:51:45 \u001b[0;34mPROGRESS \u001b[0m[]  15% ( 61/400) 0s/3s\u001b[K\u001b[0m\u001b[0G17:51:45 \u001b[0;34mPROGRESS \u001b[0m[]  16% ( 62/400) 0s/3s\u001b[K\u001b[0m\u001b[0G17:51:45 \u001b[0;34mPROGRESS \u001b[0m[]  16% ( 63/400) 0s/3s\u001b[K\u001b[0m\u001b[0G17:51:45 \u001b[0;34mPROGRESS \u001b[0m[]  16% ( 64/400) 0s/3s\u001b[K\u001b[0m\u001b[0G17:51:45 \u001b[0;34mPROGRESS \u001b[0m[]  16% ( 65/400) 0s/3s\u001b[K\u001b[0m\u001b[0G17:51:45 \u001b[0;34mPROGRESS \u001b[0m[]  17% ( 66/400) 0s/3s\u001b[K\u001b[0m\u001b[0G17:51:45 \u001b[0;34mPROGRESS \u001b[0m[]  17% ( 67/400) 0s/3s\u001b[K\u001b[0m\u001b[0G17:51:45 \u001b[0;34mPROGRESS \u001b[0m[]  17% ( 68/400) 0s/3s\u001b[K\u001b[0m\u001b[0G17:51:45 \u001b[0;34mPROGRESS \u001b[0m[]  17% ( 69/400) 0s/3s\u001b[K\u001b[0m\u001b[0G17:51:45 \u001b[0;34mPROGRESS \u001b[0m[]  18% ( 70/400) 0s/3s\u001b[K\u001b[0m\u001b[0G17:51:45 \u001b[0;34mPROGRESS \u001b[0m[]  18% ( 71/400) 0s/3s\u001b[K\u001b[0m\u001b[0G17:51:45 \u001b[0;34mPROGRESS \u001b[0m[]  18% ( 72/400) 0s/3s\u001b[K\u001b[0m\u001b[0G17:51:45 \u001b[0;34mPROGRESS \u001b[0m[]  18% ( 73/400) 0s/3s\u001b[K\u001b[0m\u001b[0G17:51:45 \u001b[0;34mPROGRESS \u001b[0m[]  19% ( 74/400) 0s/3s\u001b[K\u001b[0m\u001b[0G17:51:45 \u001b[0;34mPROGRESS \u001b[0m[]  19% ( 75/400) 0s/3s\u001b[K\u001b[0m\u001b[0G17:51:45 \u001b[0;34mPROGRESS \u001b[0m[]  19% ( 76/400) 0s/3s\u001b[K\u001b[0m\u001b[0G17:51:45 \u001b[0;34mPROGRESS \u001b[0m[]  19% ( 77/400) 0s/3s\u001b[K\u001b[0m\u001b[0G17:51:45 \u001b[0;34mPROGRESS \u001b[0m[]  20% ( 78/400) 0s/3s\u001b[K\u001b[0m\u001b[0G17:51:45 \u001b[0;34mPROGRESS \u001b[0m[]  20% ( 79/400) 0s/3s\u001b[K\u001b[0m\u001b[0G17:51:45 \u001b[0;34mPROGRESS \u001b[0m[]  20% ( 80/400) 0s/3s\u001b[K\u001b[0m\u001b[0G17:51:45 \u001b[0;34mPROGRESS \u001b[0m[]  20% ( 81/400) 0s/3s\u001b[K\u001b[0m\u001b[0G17:51:45 \u001b[0;34mPROGRESS \u001b[0m[]  21% ( 82/400) 0s/3s\u001b[K\u001b[0m\u001b[0G17:51:45 \u001b[0;34mPROGRESS \u001b[0m[]  21% ( 83/400) 0s/3s\u001b[K\u001b[0m\u001b[0G17:51:45 \u001b[0;34mPROGRESS \u001b[0m[]  21% ( 84/400) 0s/3s\u001b[K\u001b[0m\u001b[0G17:51:45 \u001b[0;34mPROGRESS \u001b[0m[]  21% ( 85/400) 0s/3s\u001b[K\u001b[0m\u001b[0G17:51:45 \u001b[0;34mPROGRESS \u001b[0m[]  22% ( 86/400) 0s/3s\u001b[K\u001b[0m\u001b[0G17:51:45 \u001b[0;34mPROGRESS \u001b[0m[]  22% ( 87/400) 0s/3s\u001b[K\u001b[0m\u001b[0G17:51:45 \u001b[0;34mPROGRESS \u001b[0m[]  22% ( 88/400) 0s/3s\u001b[K\u001b[0m\u001b[0G17:51:45 \u001b[0;34mPROGRESS \u001b[0m[]  22% ( 89/400) 0s/3s\u001b[K\u001b[0m\u001b[0G17:51:45 \u001b[0;34mPROGRESS \u001b[0m[]  23% ( 90/400) 0s/3s\u001b[K\u001b[0m\u001b[0G17:51:45 \u001b[0;34mPROGRESS \u001b[0m[]  23% ( 91/400) 0s/3s\u001b[K\u001b[0m\u001b[0G17:51:45 \u001b[0;34mPROGRESS \u001b[0m[]  23% ( 92/400) 0s/3s\u001b[K\u001b[0m\u001b[0G17:51:45 \u001b[0;34mPROGRESS \u001b[0m[]  23% ( 93/400) 0s/3s\u001b[K\u001b[0m\u001b[0G17:51:45 \u001b[0;34mPROGRESS \u001b[0m[]  24% ( 94/400) 0s/3s\u001b[K\u001b[0m\u001b[0G17:51:45 \u001b[0;34mPROGRESS \u001b[0m[]  24% ( 95/400) 0s/3s\u001b[K\u001b[0m\u001b[0G17:51:45 \u001b[0;34mPROGRESS \u001b[0m[]  24% ( 96/400) 0s/3s\u001b[K\u001b[0m\u001b[0G17:51:45 \u001b[0;34mPROGRESS \u001b[0m[]  24% ( 97/400) 0s/3s\u001b[K\u001b[0m\u001b[0G17:51:45 \u001b[0;34mPROGRESS \u001b[0m[]  25% ( 98/400) 0s/3s\u001b[K\u001b[0m\u001b[0G17:51:45 \u001b[0;34mPROGRESS \u001b[0m[]  25% ( 99/400) 0s/3s\u001b[K\u001b[0m\u001b[0G17:51:45 \u001b[0;34mPROGRESS \u001b[0m[]  25% (100/400) 0s/3s\u001b[K\u001b[0m\u001b[0G17:51:45 \u001b[0;34mPROGRESS \u001b[0m[]  25% (101/400) 0s/3s\u001b[K\u001b[0m\u001b[0G17:51:45 \u001b[0;34mPROGRESS \u001b[0m[]  26% (102/400) 0s/3s\u001b[K\u001b[0m\u001b[0G17:51:45 \u001b[0;34mPROGRESS \u001b[0m[]  26% (103/400) 0s/3s\u001b[K\u001b[0m\u001b[0G17:51:45 \u001b[0;34mPROGRESS \u001b[0m[]  26% (104/400) 0s/3s\u001b[K\u001b[0m\u001b[0G17:51:45 \u001b[0;34mPROGRESS \u001b[0m[]  26% (105/400) 0s/3s\u001b[K\u001b[0m\u001b[0G17:51:45 \u001b[0;34mPROGRESS \u001b[0m[]  27% (106/400) 0s/3s\u001b[K\u001b[0m\u001b[0G17:51:45 \u001b[0;34mPROGRESS \u001b[0m[]  27% (107/400) 0s/3s\u001b[K\u001b[0m\u001b[0G17:51:45 \u001b[0;34mPROGRESS \u001b[0m[]  27% (108/400) 0s/3s\u001b[K\u001b[0m\u001b[0G17:51:45 \u001b[0;34mPROGRESS \u001b[0m[]  27% (109/400) 0s/3s\u001b[K\u001b[0m\u001b[0G17:51:45 \u001b[0;34mPROGRESS \u001b[0m[]  28% (110/400) 0s/3s\u001b[K\u001b[0m\u001b[0G17:51:45 \u001b[0;34mPROGRESS \u001b[0m[]  28% (111/400) 0s/3s\u001b[K\u001b[0m\u001b[0G17:51:45 \u001b[0;34mPROGRESS \u001b[0m[]  28% (112/400) 0s/3s\u001b[K\u001b[0m\u001b[0G17:51:45 \u001b[0;34mPROGRESS \u001b[0m[]  28% (113/400) 0s/3s\u001b[K\u001b[0m\u001b[0G17:51:45 \u001b[0;34mPROGRESS \u001b[0m[]  28% (114/400) 0s/3s\u001b[K\u001b[0m\u001b[0G17:51:45 \u001b[0;34mPROGRESS \u001b[0m[]  29% (115/400) 0s/3s\u001b[K\u001b[0m\u001b[0G17:51:45 \u001b[0;34mPROGRESS \u001b[0m[]  29% (116/400) 0s/3s\u001b[K\u001b[0m\u001b[0G17:51:45 \u001b[0;34mPROGRESS \u001b[0m[]  29% (117/400) 0s/3s\u001b[K\u001b[0m\u001b[0G17:51:45 \u001b[0;34mPROGRESS \u001b[0m[]  30% (118/400) 0s/3s\u001b[K\u001b[0m\u001b[0G17:51:45 \u001b[0;34mPROGRESS \u001b[0m[]  30% (119/400) 0s/3s\u001b[K\u001b[0m\u001b[0G17:51:45 \u001b[0;34mPROGRESS \u001b[0m[]  30% (120/400) 0s/3s\u001b[K\u001b[0m\u001b[0G17:51:45 \u001b[0;34mPROGRESS \u001b[0m[]  30% (121/400) 0s/3s\u001b[K\u001b[0m\u001b[0G17:51:45 \u001b[0;34mPROGRESS \u001b[0m[]  31% (122/400) 0s/3s\u001b[K\u001b[0m\u001b[0G17:51:45 \u001b[0;34mPROGRESS \u001b[0m[]  31% (123/400) 0s/3s\u001b[K\u001b[0m\u001b[0G17:51:45 \u001b[0;34mPROGRESS \u001b[0m[]  31% (124/400) 0s/3s\u001b[K\u001b[0m\u001b[0G17:51:45 \u001b[0;34mPROGRESS \u001b[0m[]  31% (125/400) 0s/3s\u001b[K\u001b[0m\u001b[0G17:51:45 \u001b[0;34mPROGRESS \u001b[0m[]  32% (126/400) 0s/3s\u001b[K\u001b[0m\u001b[0G17:51:45 \u001b[0;34mPROGRESS \u001b[0m[]  32% (127/400) 0s/3s\u001b[K\u001b[0m\u001b[0G17:51:45 \u001b[0;34mPROGRESS \u001b[0m[]  32% (128/400) 0s/3s\u001b[K\u001b[0m\u001b[0G17:51:45 \u001b[0;34mPROGRESS \u001b[0m[]  32% (129/400) 0s/3s\u001b[K\u001b[0m\u001b[0G17:51:45 \u001b[0;34mPROGRESS \u001b[0m[]  33% (130/400) 0s/3s\u001b[K\u001b[0m\u001b[0G17:51:45 \u001b[0;34mPROGRESS \u001b[0m[]  33% (131/400) 0s/3s\u001b[K\u001b[0m\u001b[0G17:51:45 \u001b[0;34mPROGRESS \u001b[0m[]  33% (132/400) 1s/3s\u001b[K\u001b[0m\u001b[0G17:51:45 \u001b[0;34mPROGRESS \u001b[0m[]  33% (133/400) 1s/3s\u001b[K\u001b[0m\u001b[0G17:51:45 \u001b[0;34mPROGRESS \u001b[0m[]  34% (134/400) 1s/3s\u001b[K\u001b[0m\u001b[0G17:51:45 \u001b[0;34mPROGRESS \u001b[0m[]  34% (135/400) 1s/3s\u001b[K\u001b[0m\u001b[0G17:51:45 \u001b[0;34mPROGRESS \u001b[0m[]  34% (136/400) 1s/3s\u001b[K\u001b[0m\u001b[0G17:51:45 \u001b[0;34mPROGRESS \u001b[0m[]  34% (137/400) 1s/3s\u001b[K\u001b[0m\u001b[0G17:51:45 \u001b[0;34mPROGRESS \u001b[0m[]  35% (138/400) 1s/3s\u001b[K\u001b[0m\u001b[0G17:51:45 \u001b[0;34mPROGRESS \u001b[0m[]  35% (139/400) 1s/3s\u001b[K\u001b[0m\u001b[0G17:51:45 \u001b[0;34mPROGRESS \u001b[0m[]  35% (140/400) 1s/3s\u001b[K\u001b[0m\u001b[0G17:51:45 \u001b[0;34mPROGRESS \u001b[0m[]  35% (141/400) 1s/3s\u001b[K\u001b[0m\u001b[0G17:51:45 \u001b[0;34mPROGRESS \u001b[0m[]  36% (142/400) 1s/3s\u001b[K\u001b[0m\u001b[0G17:51:45 \u001b[0;34mPROGRESS \u001b[0m[]  36% (143/400) 1s/3s\u001b[K\u001b[0m\u001b[0G17:51:45 \u001b[0;34mPROGRESS \u001b[0m[]  36% (144/400) 1s/3s\u001b[K\u001b[0m\u001b[0G17:51:45 \u001b[0;34mPROGRESS \u001b[0m[]  36% (145/400) 1s/3s\u001b[K\u001b[0m\u001b[0G17:51:45 \u001b[0;34mPROGRESS \u001b[0m[]  37% (146/400) 1s/3s\u001b[K\u001b[0m\u001b[0G17:51:45 \u001b[0;34mPROGRESS \u001b[0m[]  37% (147/400) 1s/3s\u001b[K\u001b[0m\u001b[0G17:51:45 \u001b[0;34mPROGRESS \u001b[0m[]  37% (148/400) 1s/3s\u001b[K\u001b[0m\u001b[0G17:51:45 \u001b[0;34mPROGRESS \u001b[0m[]  37% (149/400) 1s/3s\u001b[K\u001b[0m\u001b[0G17:51:45 \u001b[0;34mPROGRESS \u001b[0m[]  38% (150/400) 1s/3s\u001b[K\u001b[0m\u001b[0G17:51:45 \u001b[0;34mPROGRESS \u001b[0m[]  38% (151/400) 1s/3s\u001b[K\u001b[0m\u001b[0G17:51:45 \u001b[0;34mPROGRESS \u001b[0m[]  38% (152/400) 1s/3s\u001b[K\u001b[0m\u001b[0G17:51:45 \u001b[0;34mPROGRESS \u001b[0m[]  38% (153/400) 1s/3s\u001b[K\u001b[0m\u001b[0G17:51:45 \u001b[0;34mPROGRESS \u001b[0m[]  39% (154/400) 1s/3s\u001b[K\u001b[0m\u001b[0G17:51:45 \u001b[0;34mPROGRESS \u001b[0m[]  39% (155/400) 1s/3s\u001b[K\u001b[0m\u001b[0G17:51:45 \u001b[0;34mPROGRESS \u001b[0m[]  39% (156/400) 1s/3s\u001b[K\u001b[0m\u001b[0G17:51:45 \u001b[0;34mPROGRESS \u001b[0m[]  39% (157/400) 1s/3s\u001b[K\u001b[0m\u001b[0G17:51:45 \u001b[0;34mPROGRESS \u001b[0m[]  40% (158/400) 1s/3s\u001b[K\u001b[0m\u001b[0G17:51:45 \u001b[0;34mPROGRESS \u001b[0m[]  40% (159/400) 1s/3s\u001b[K\u001b[0m\u001b[0G17:51:45 \u001b[0;34mPROGRESS \u001b[0m[]  40% (160/400) 1s/3s\u001b[K\u001b[0m\u001b[0G17:51:45 \u001b[0;34mPROGRESS \u001b[0m[]  40% (161/400) 1s/3s\u001b[K\u001b[0m\u001b[0G17:51:45 \u001b[0;34mPROGRESS \u001b[0m[]  41% (162/400) 1s/3s\u001b[K\u001b[0m\u001b[0G17:51:45 \u001b[0;34mPROGRESS \u001b[0m[]  41% (163/400) 1s/3s\u001b[K\u001b[0m\u001b[0G17:51:45 \u001b[0;34mPROGRESS \u001b[0m[]  41% (164/400) 1s/3s\u001b[K\u001b[0m\u001b[0G17:51:45 \u001b[0;34mPROGRESS \u001b[0m[]  41% (165/400) 1s/3s\u001b[K\u001b[0m\u001b[0G17:51:45 \u001b[0;34mPROGRESS \u001b[0m[]  42% (166/400) 1s/3s\u001b[K\u001b[0m\u001b[0G17:51:45 \u001b[0;34mPROGRESS \u001b[0m[]  42% (167/400) 1s/3s\u001b[K\u001b[0m\u001b[0G17:51:45 \u001b[0;34mPROGRESS \u001b[0m[]  42% (168/400) 1s/3s\u001b[K\u001b[0m\u001b[0G17:51:45 \u001b[0;34mPROGRESS \u001b[0m[]  42% (169/400) 1s/3s\u001b[K\u001b[0m\u001b[0G17:51:45 \u001b[0;34mPROGRESS \u001b[0m[]  43% (170/400) 1s/3s\u001b[K\u001b[0m\u001b[0G17:51:45 \u001b[0;34mPROGRESS \u001b[0m[]  43% (171/400) 1s/3s\u001b[K\u001b[0m\u001b[0G17:51:45 \u001b[0;34mPROGRESS \u001b[0m[]  43% (172/400) 1s/3s\u001b[K\u001b[0m\u001b[0G17:51:45 \u001b[0;34mPROGRESS \u001b[0m[]  43% (173/400) 1s/3s\u001b[K\u001b[0m\u001b[0G17:51:45 \u001b[0;34mPROGRESS \u001b[0m[]  44% (174/400) 1s/3s\u001b[K\u001b[0m\u001b[0G17:51:45 \u001b[0;34mPROGRESS \u001b[0m[]  44% (175/400) 1s/3s\u001b[K\u001b[0m\u001b[0G17:51:46 \u001b[0;34mPROGRESS \u001b[0m[]  44% (176/400) 1s/3s\u001b[K\u001b[0m\u001b[0G17:51:46 \u001b[0;34mPROGRESS \u001b[0m[]  44% (177/400) 1s/3s\u001b[K\u001b[0m\u001b[0G17:51:46 \u001b[0;34mPROGRESS \u001b[0m[]  45% (178/400) 1s/3s\u001b[K\u001b[0m\u001b[0G17:51:46 \u001b[0;34mPROGRESS \u001b[0m[]  45% (179/400) 1s/3s\u001b[K\u001b[0m\u001b[0G17:51:46 \u001b[0;34mPROGRESS \u001b[0m[]  45% (180/400) 1s/3s\u001b[K\u001b[0m\u001b[0G17:51:46 \u001b[0;34mPROGRESS \u001b[0m[]  45% (181/400) 1s/3s\u001b[K\u001b[0m\u001b[0G17:51:46 \u001b[0;34mPROGRESS \u001b[0m[]  46% (182/400) 1s/3s\u001b[K\u001b[0m\u001b[0G17:51:46 \u001b[0;34mPROGRESS \u001b[0m[]  46% (183/400) 1s/3s\u001b[K\u001b[0m\u001b[0G17:51:46 \u001b[0;34mPROGRESS \u001b[0m[]  46% (184/400) 1s/3s\u001b[K\u001b[0m\u001b[0G17:51:46 \u001b[0;34mPROGRESS \u001b[0m[]  46% (185/400) 1s/3s\u001b[K\u001b[0m\u001b[0G17:51:46 \u001b[0;34mPROGRESS \u001b[0m[]  47% (186/400) 1s/3s\u001b[K\u001b[0m\u001b[0G17:51:46 \u001b[0;34mPROGRESS \u001b[0m[]  47% (187/400) 1s/3s\u001b[K\u001b[0m\u001b[0G17:51:46 \u001b[0;34mPROGRESS \u001b[0m[]  47% (188/400) 1s/2s\u001b[K\u001b[0m\u001b[0G17:51:46 \u001b[0;34mPROGRESS \u001b[0m[]  47% (189/400) 1s/3s\u001b[K\u001b[0m\u001b[0G17:51:46 \u001b[0;34mPROGRESS \u001b[0m[]  48% (190/400) 1s/2s\u001b[K\u001b[0m\u001b[0G17:51:46 \u001b[0;34mPROGRESS \u001b[0m[]  48% (191/400) 1s/3s\u001b[K\u001b[0m\u001b[0G17:51:46 \u001b[0;34mPROGRESS \u001b[0m[]  48% (192/400) 1s/2s\u001b[K\u001b[0m\u001b[0G17:51:46 \u001b[0;34mPROGRESS \u001b[0m[]  48% (193/400) 1s/3s\u001b[K\u001b[0m\u001b[0G17:51:46 \u001b[0;34mPROGRESS \u001b[0m[]  49% (194/400) 1s/2s\u001b[K\u001b[0m\u001b[0G17:51:46 \u001b[0;34mPROGRESS \u001b[0m[]  49% (195/400) 1s/2s\u001b[K\u001b[0m\u001b[0G17:51:46 \u001b[0;34mPROGRESS \u001b[0m[]  49% (196/400) 1s/2s\u001b[K\u001b[0m\u001b[0G17:51:46 \u001b[0;34mPROGRESS \u001b[0m[]  49% (197/400) 1s/2s\u001b[K\u001b[0m\u001b[0G17:51:46 \u001b[0;34mPROGRESS \u001b[0m[]  50% (198/400) 1s/2s\u001b[K\u001b[0m\u001b[0G17:51:46 \u001b[0;34mPROGRESS \u001b[0m[]  50% (199/400) 1s/2s\u001b[K\u001b[0m\u001b[0G17:51:46 \u001b[0;34mPROGRESS \u001b[0m[]  50% (200/400) 1s/2s\u001b[K\u001b[0m\u001b[0G17:51:46 \u001b[0;34mPROGRESS \u001b[0m[]  50% (201/400) 1s/2s\u001b[K\u001b[0m\u001b[0G17:51:46 \u001b[0;34mPROGRESS \u001b[0m[]  51% (202/400) 1s/2s\u001b[K\u001b[0m\u001b[0G17:51:46 \u001b[0;34mPROGRESS \u001b[0m[]  51% (203/400) 1s/2s\u001b[K\u001b[0m\u001b[0G17:51:46 \u001b[0;34mPROGRESS \u001b[0m[]  51% (204/400) 1s/2s\u001b[K\u001b[0m\u001b[0G17:51:46 \u001b[0;34mPROGRESS \u001b[0m[]  51% (205/400) 1s/2s\u001b[K\u001b[0m\u001b[0G17:51:46 \u001b[0;34mPROGRESS \u001b[0m[]  52% (206/400) 1s/2s\u001b[K\u001b[0m\u001b[0G17:51:46 \u001b[0;34mPROGRESS \u001b[0m[]  52% (207/400) 1s/3s\u001b[K\u001b[0m\u001b[0G17:51:46 \u001b[0;34mPROGRESS \u001b[0m[]  52% (208/400) 1s/2s\u001b[K\u001b[0m\u001b[0G17:51:46 \u001b[0;34mPROGRESS \u001b[0m[]  52% (209/400) 1s/2s\u001b[K\u001b[0m\u001b[0G17:51:46 \u001b[0;34mPROGRESS \u001b[0m[]  53% (210/400) 1s/2s\u001b[K\u001b[0m\u001b[0G17:51:46 \u001b[0;34mPROGRESS \u001b[0m[]  53% (211/400) 1s/2s\u001b[K\u001b[0m\u001b[0G17:51:46 \u001b[0;34mPROGRESS \u001b[0m[]  53% (212/400) 1s/2s\u001b[K\u001b[0m\u001b[0G17:51:46 \u001b[0;34mPROGRESS \u001b[0m[]  53% (213/400) 1s/2s\u001b[K\u001b[0m\u001b[0G17:51:46 \u001b[0;34mPROGRESS \u001b[0m[]  54% (214/400) 1s/2s\u001b[K\u001b[0m\u001b[0G17:51:46 \u001b[0;34mPROGRESS \u001b[0m[]  54% (215/400) 1s/2s\u001b[K\u001b[0m\u001b[0G17:51:46 \u001b[0;34mPROGRESS \u001b[0m[]  54% (216/400) 1s/2s\u001b[K\u001b[0m\u001b[0G17:51:46 \u001b[0;34mPROGRESS \u001b[0m[]  54% (217/400) 1s/2s\u001b[K\u001b[0m\u001b[0G17:51:46 \u001b[0;34mPROGRESS \u001b[0m[]  55% (218/400) 1s/2s\u001b[K\u001b[0m\u001b[0G17:51:46 \u001b[0;34mPROGRESS \u001b[0m[]  55% (219/400) 1s/2s\u001b[K\u001b[0m\u001b[0G17:51:46 \u001b[0;34mPROGRESS \u001b[0m[]  55% (220/400) 1s/2s\u001b[K\u001b[0m\u001b[0G17:51:46 \u001b[0;34mPROGRESS \u001b[0m[]  55% (221/400) 1s/2s\u001b[K\u001b[0m\u001b[0G17:51:46 \u001b[0;34mPROGRESS \u001b[0m[]  56% (222/400) 1s/2s\u001b[K\u001b[0m\u001b[0G17:51:46 \u001b[0;34mPROGRESS \u001b[0m[]  56% (223/400) 1s/2s\u001b[K\u001b[0m\u001b[0G17:51:46 \u001b[0;34mPROGRESS \u001b[0m[]  56% (224/400) 1s/2s\u001b[K\u001b[0m\u001b[0G17:51:46 \u001b[0;34mPROGRESS \u001b[0m[]  56% (225/400) 1s/2s\u001b[K\u001b[0m\u001b[0G17:51:46 \u001b[0;34mPROGRESS \u001b[0m[]  56% (226/400) 1s/2s\u001b[K\u001b[0m\u001b[0G17:51:46 \u001b[0;34mPROGRESS \u001b[0m[]  57% (227/400) 1s/2s\u001b[K\u001b[0m\u001b[0G17:51:46 \u001b[0;34mPROGRESS \u001b[0m[]  57% (228/400) 1s/2s\u001b[K\u001b[0m\u001b[0G17:51:46 \u001b[0;34mPROGRESS \u001b[0m[]  57% (229/400) 1s/2s\u001b[K\u001b[0m\u001b[0G17:51:46 \u001b[0;34mPROGRESS \u001b[0m[]  57% (230/400) 1s/2s\u001b[K\u001b[0m\u001b[0G17:51:46 \u001b[0;34mPROGRESS \u001b[0m[]  58% (231/400) 1s/2s\u001b[K\u001b[0m\u001b[0G17:51:46 \u001b[0;34mPROGRESS \u001b[0m[]  58% (232/400) 1s/2s\u001b[K\u001b[0m\u001b[0G17:51:46 \u001b[0;34mPROGRESS \u001b[0m[]  58% (233/400) 1s/2s\u001b[K\u001b[0m\u001b[0G17:51:46 \u001b[0;34mPROGRESS \u001b[0m[]  59% (234/400) 1s/2s\u001b[K\u001b[0m\u001b[0G17:51:46 \u001b[0;34mPROGRESS \u001b[0m[]  59% (235/400) 1s/2s\u001b[K\u001b[0m\u001b[0G17:51:46 \u001b[0;34mPROGRESS \u001b[0m[]  59% (236/400) 1s/2s\u001b[K\u001b[0m\u001b[0G17:51:46 \u001b[0;34mPROGRESS \u001b[0m[]  59% (237/400) 1s/2s\u001b[K\u001b[0m\u001b[0G17:51:46 \u001b[0;34mPROGRESS \u001b[0m[]  60% (238/400) 1s/2s\u001b[K\u001b[0m\u001b[0G17:51:46 \u001b[0;34mPROGRESS \u001b[0m[]  60% (239/400) 1s/2s\u001b[K\u001b[0m\u001b[0G17:51:46 \u001b[0;34mPROGRESS \u001b[0m[]  60% (240/400) 1s/2s\u001b[K\u001b[0m\u001b[0G17:51:46 \u001b[0;34mPROGRESS \u001b[0m[]  60% (241/400) 1s/2s\u001b[K\u001b[0m\u001b[0G17:51:46 \u001b[0;34mPROGRESS \u001b[0m[]  61% (242/400) 1s/2s\u001b[K\u001b[0m\u001b[0G17:51:46 \u001b[0;34mPROGRESS \u001b[0m[]  61% (243/400) 1s/2s\u001b[K\u001b[0m\u001b[0G17:51:46 \u001b[0;34mPROGRESS \u001b[0m[]  61% (244/400) 1s/2s\u001b[K\u001b[0m\u001b[0G17:51:46 \u001b[0;34mPROGRESS \u001b[0m[]  61% (245/400) 1s/2s\u001b[K\u001b[0m\u001b[0G17:51:46 \u001b[0;34mPROGRESS \u001b[0m[]  62% (246/400) 1s/2s\u001b[K\u001b[0m\u001b[0G17:51:46 \u001b[0;34mPROGRESS \u001b[0m[]  62% (247/400) 1s/2s\u001b[K\u001b[0m\u001b[0G17:51:46 \u001b[0;34mPROGRESS \u001b[0m[]  62% (248/400) 1s/2s\u001b[K\u001b[0m\u001b[0G17:51:46 \u001b[0;34mPROGRESS \u001b[0m[]  62% (249/400) 1s/2s\u001b[K\u001b[0m\u001b[0G17:51:46 \u001b[0;34mPROGRESS \u001b[0m[]  63% (250/400) 1s/2s\u001b[K\u001b[0m\u001b[0G17:51:46 \u001b[0;34mPROGRESS \u001b[0m[]  63% (251/400) 1s/2s\u001b[K\u001b[0m\u001b[0G17:51:46 \u001b[0;34mPROGRESS \u001b[0m[]  63% (252/400) 1s/2s\u001b[K\u001b[0m\u001b[0G17:51:46 \u001b[0;34mPROGRESS \u001b[0m[]  63% (253/400) 1s/2s\u001b[K\u001b[0m\u001b[0G17:51:46 \u001b[0;34mPROGRESS \u001b[0m[]  64% (254/400) 1s/2s\u001b[K\u001b[0m\u001b[0G17:51:46 \u001b[0;34mPROGRESS \u001b[0m[]  64% (255/400) 1s/2s\u001b[K\u001b[0m\u001b[0G17:51:46 \u001b[0;34mPROGRESS \u001b[0m[]  64% (256/400) 1s/2s\u001b[K\u001b[0m\u001b[0G17:51:46 \u001b[0;34mPROGRESS \u001b[0m[]  64% (257/400) 1s/2s\u001b[K\u001b[0m\u001b[0G17:51:46 \u001b[0;34mPROGRESS \u001b[0m[]  65% (258/400) 1s/2s\u001b[K\u001b[0m\u001b[0G17:51:46 \u001b[0;34mPROGRESS \u001b[0m[]  65% (259/400) 1s/2s\u001b[K\u001b[0m\u001b[0G17:51:46 \u001b[0;34mPROGRESS \u001b[0m[]  65% (260/400) 1s/2s\u001b[K\u001b[0m\u001b[0G17:51:46 \u001b[0;34mPROGRESS \u001b[0m[]  65% (261/400) 1s/2s\u001b[K\u001b[0m\u001b[0G17:51:46 \u001b[0;34mPROGRESS \u001b[0m[]  66% (262/400) 1s/2s\u001b[K\u001b[0m\u001b[0G17:51:46 \u001b[0;34mPROGRESS \u001b[0m[]  66% (263/400) 1s/2s\u001b[K\u001b[0m\u001b[0G17:51:46 \u001b[0;34mPROGRESS \u001b[0m[]  66% (264/400) 1s/2s\u001b[K\u001b[0m\u001b[0G17:51:46 \u001b[0;34mPROGRESS \u001b[0m[]  66% (265/400) 1s/2s\u001b[K\u001b[0m\u001b[0G17:51:46 \u001b[0;34mPROGRESS \u001b[0m[]  67% (266/400) 1s/2s\u001b[K\u001b[0m\u001b[0G17:51:46 \u001b[0;34mPROGRESS \u001b[0m[]  67% (267/400) 1s/2s\u001b[K\u001b[0m\u001b[0G17:51:46 \u001b[0;34mPROGRESS \u001b[0m[]  67% (268/400) 1s/2s\u001b[K\u001b[0m\u001b[0G17:51:46 \u001b[0;34mPROGRESS \u001b[0m[]  67% (269/400) 1s/2s\u001b[K\u001b[0m\u001b[0G17:51:46 \u001b[0;34mPROGRESS \u001b[0m[]  68% (270/400) 2s/2s\u001b[K\u001b[0m\u001b[0G17:51:46 \u001b[0;34mPROGRESS \u001b[0m[]  68% (271/400) 2s/2s\u001b[K\u001b[0m\u001b[0G17:51:46 \u001b[0;34mPROGRESS \u001b[0m[]  68% (272/400) 2s/2s\u001b[K\u001b[0m\u001b[0G17:51:46 \u001b[0;34mPROGRESS \u001b[0m[]  68% (273/400) 2s/2s\u001b[K\u001b[0m\u001b[0G17:51:46 \u001b[0;34mPROGRESS \u001b[0m[]  69% (274/400) 2s/2s\u001b[K\u001b[0m\u001b[0G17:51:46 \u001b[0;34mPROGRESS \u001b[0m[]  69% (275/400) 2s/2s\u001b[K\u001b[0m\u001b[0G17:51:46 \u001b[0;34mPROGRESS \u001b[0m[]  69% (276/400) 2s/2s\u001b[K\u001b[0m\u001b[0G17:51:46 \u001b[0;34mPROGRESS \u001b[0m[]  69% (277/400) 2s/2s\u001b[K\u001b[0m\u001b[0G17:51:46 \u001b[0;34mPROGRESS \u001b[0m[]  70% (278/400) 2s/2s\u001b[K\u001b[0m\u001b[0G17:51:46 \u001b[0;34mPROGRESS \u001b[0m[]  70% (279/400) 2s/2s\u001b[K\u001b[0m\u001b[0G17:51:46 \u001b[0;34mPROGRESS \u001b[0m[]  70% (280/400) 2s/2s\u001b[K\u001b[0m\u001b[0G17:51:46 \u001b[0;34mPROGRESS \u001b[0m[]  70% (281/400) 2s/2s\u001b[K\u001b[0m\u001b[0G17:51:46 \u001b[0;34mPROGRESS \u001b[0m[]  71% (282/400) 2s/2s\u001b[K\u001b[0m\u001b[0G17:51:46 \u001b[0;34mPROGRESS \u001b[0m[]  71% (283/400) 2s/2s\u001b[K\u001b[0m\u001b[0G17:51:46 \u001b[0;34mPROGRESS \u001b[0m[]  71% (284/400) 2s/2s\u001b[K\u001b[0m\u001b[0G17:51:46 \u001b[0;34mPROGRESS \u001b[0m[]  71% (285/400) 2s/2s\u001b[K\u001b[0m\u001b[0G17:51:46 \u001b[0;34mPROGRESS \u001b[0m[]  72% (286/400) 2s/2s\u001b[K\u001b[0m\u001b[0G17:51:46 \u001b[0;34mPROGRESS \u001b[0m[]  72% (287/400) 2s/2s\u001b[K\u001b[0m\u001b[0G17:51:46 \u001b[0;34mPROGRESS \u001b[0m[]  72% (288/400) 2s/2s\u001b[K\u001b[0m\u001b[0G17:51:46 \u001b[0;34mPROGRESS \u001b[0m[]  72% (289/400) 2s/2s\u001b[K\u001b[0m\u001b[0G17:51:46 \u001b[0;34mPROGRESS \u001b[0m[]  73% (290/400) 2s/2s\u001b[K\u001b[0m\u001b[0G17:51:46 \u001b[0;34mPROGRESS \u001b[0m[]  73% (291/400) 2s/2s\u001b[K\u001b[0m\u001b[0G17:51:46 \u001b[0;34mPROGRESS \u001b[0m[]  73% (292/400) 2s/2s\u001b[K\u001b[0m\u001b[0G17:51:46 \u001b[0;34mPROGRESS \u001b[0m[]  73% (293/400) 2s/2s\u001b[K\u001b[0m\u001b[0G17:51:46 \u001b[0;34mPROGRESS \u001b[0m[]  74% (294/400) 2s/2s\u001b[K\u001b[0m\u001b[0G17:51:46 \u001b[0;34mPROGRESS \u001b[0m[]  74% (295/400) 2s/2s\u001b[K\u001b[0m\u001b[0G17:51:46 \u001b[0;34mPROGRESS \u001b[0m[]  74% (296/400) 2s/2s\u001b[K\u001b[0m\u001b[0G17:51:46 \u001b[0;34mPROGRESS \u001b[0m[]  74% (297/400) 2s/2s\u001b[K\u001b[0m\u001b[0G17:51:46 \u001b[0;34mPROGRESS \u001b[0m[]  75% (298/400) 2s/2s\u001b[K\u001b[0m\u001b[0G17:51:46 \u001b[0;34mPROGRESS \u001b[0m[]  75% (299/400) 2s/2s\u001b[K\u001b[0m\u001b[0G17:51:46 \u001b[0;34mPROGRESS \u001b[0m[]  75% (300/400) 2s/2s\u001b[K\u001b[0m\u001b[0G17:51:46 \u001b[0;34mPROGRESS \u001b[0m[]  75% (301/400) 2s/2s\u001b[K\u001b[0m\u001b[0G17:51:46 \u001b[0;34mPROGRESS \u001b[0m[]  76% (302/400) 2s/2s\u001b[K\u001b[0m\u001b[0G17:51:46 \u001b[0;34mPROGRESS \u001b[0m[]  76% (303/400) 2s/2s\u001b[K\u001b[0m\u001b[0G17:51:46 \u001b[0;34mPROGRESS \u001b[0m[]  76% (304/400) 2s/2s\u001b[K\u001b[0m\u001b[0G17:51:46 \u001b[0;34mPROGRESS \u001b[0m[]  76% (305/400) 2s/2s\u001b[K\u001b[0m\u001b[0G17:51:46 \u001b[0;34mPROGRESS \u001b[0m[]  77% (306/400) 2s/2s\u001b[K\u001b[0m\u001b[0G17:51:46 \u001b[0;34mPROGRESS \u001b[0m[]  77% (307/400) 2s/2s\u001b[K\u001b[0m\u001b[0G17:51:46 \u001b[0;34mPROGRESS \u001b[0m[]  77% (308/400) 2s/2s\u001b[K\u001b[0m\u001b[0G17:51:46 \u001b[0;34mPROGRESS \u001b[0m[]  77% (309/400) 2s/2s\u001b[K\u001b[0m\u001b[0G17:51:46 \u001b[0;34mPROGRESS \u001b[0m[]  78% (310/400) 2s/2s\u001b[K\u001b[0m\u001b[0G17:51:46 \u001b[0;34mPROGRESS \u001b[0m[]  78% (311/400) 2s/2s\u001b[K\u001b[0m\u001b[0G17:51:46 \u001b[0;34mPROGRESS \u001b[0m[]  78% (312/400) 2s/2s\u001b[K\u001b[0m\u001b[0G17:51:46 \u001b[0;34mPROGRESS \u001b[0m[]  78% (313/400) 2s/2s\u001b[K\u001b[0m\u001b[0G17:51:47 \u001b[0;34mPROGRESS \u001b[0m[]  79% (314/400) 2s/2s\u001b[K\u001b[0m\u001b[0G17:51:47 \u001b[0;34mPROGRESS \u001b[0m[]  79% (315/400) 2s/2s\u001b[K\u001b[0m\u001b[0G17:51:47 \u001b[0;34mPROGRESS \u001b[0m[]  79% (316/400) 2s/2s\u001b[K\u001b[0m\u001b[0G17:51:47 \u001b[0;34mPROGRESS \u001b[0m[]  79% (317/400) 2s/2s\u001b[K\u001b[0m\u001b[0G17:51:47 \u001b[0;34mPROGRESS \u001b[0m[]  80% (318/400) 2s/2s\u001b[K\u001b[0m\u001b[0G17:51:47 \u001b[0;34mPROGRESS \u001b[0m[]  80% (319/400) 2s/2s\u001b[K\u001b[0m\u001b[0G17:51:47 \u001b[0;34mPROGRESS \u001b[0m[]  80% (320/400) 2s/2s\u001b[K\u001b[0m\u001b[0G17:51:47 \u001b[0;34mPROGRESS \u001b[0m[]  80% (321/400) 2s/2s\u001b[K\u001b[0m\u001b[0G17:51:47 \u001b[0;34mPROGRESS \u001b[0m[]  81% (322/400) 2s/2s\u001b[K\u001b[0m\u001b[0G17:51:47 \u001b[0;34mPROGRESS \u001b[0m[]  81% (323/400) 2s/2s\u001b[K\u001b[0m\u001b[0G17:51:47 \u001b[0;34mPROGRESS \u001b[0m[]  81% (324/400) 2s/2s\u001b[K\u001b[0m\u001b[0G17:51:47 \u001b[0;34mPROGRESS \u001b[0m[]  81% (325/400) 2s/2s\u001b[K\u001b[0m\u001b[0G17:51:47 \u001b[0;34mPROGRESS \u001b[0m[]  82% (326/400) 2s/2s\u001b[K\u001b[0m\u001b[0G17:51:47 \u001b[0;34mPROGRESS \u001b[0m[]  82% (327/400) 2s/2s\u001b[K\u001b[0m\u001b[0G17:51:47 \u001b[0;34mPROGRESS \u001b[0m[]  82% (328/400) 2s/2s\u001b[K\u001b[0m\u001b[0G17:51:47 \u001b[0;34mPROGRESS \u001b[0m[]  82% (329/400) 2s/2s\u001b[K\u001b[0m\u001b[0G17:51:47 \u001b[0;34mPROGRESS \u001b[0m[]  83% (330/400) 2s/2s\u001b[K\u001b[0m\u001b[0G17:51:47 \u001b[0;34mPROGRESS \u001b[0m[]  83% (331/400) 2s/2s\u001b[K\u001b[0m\u001b[0G17:51:47 \u001b[0;34mPROGRESS \u001b[0m[]  83% (332/400) 2s/2s\u001b[K\u001b[0m\u001b[0G17:51:47 \u001b[0;34mPROGRESS \u001b[0m[]  83% (333/400) 2s/2s\u001b[K\u001b[0m\u001b[0G17:51:47 \u001b[0;34mPROGRESS \u001b[0m[]  84% (334/400) 2s/2s\u001b[K\u001b[0m\u001b[0G17:51:47 \u001b[0;34mPROGRESS \u001b[0m[]  84% (335/400) 2s/2s\u001b[K\u001b[0m\u001b[0G17:51:47 \u001b[0;34mPROGRESS \u001b[0m[]  84% (336/400) 2s/2s\u001b[K\u001b[0m\u001b[0G17:51:47 \u001b[0;34mPROGRESS \u001b[0m[]  84% (337/400) 2s/2s\u001b[K\u001b[0m\u001b[0G17:51:47 \u001b[0;34mPROGRESS \u001b[0m[]  85% (338/400) 2s/2s\u001b[K\u001b[0m\u001b[0G17:51:47 \u001b[0;34mPROGRESS \u001b[0m[]  85% (339/400) 2s/2s\u001b[K\u001b[0m\u001b[0G17:51:47 \u001b[0;34mPROGRESS \u001b[0m[]  85% (340/400) 2s/2s\u001b[K\u001b[0m\u001b[0G17:51:47 \u001b[0;34mPROGRESS \u001b[0m[]  85% (341/400) 2s/2s\u001b[K\u001b[0m\u001b[0G17:51:47 \u001b[0;34mPROGRESS \u001b[0m[]  86% (342/400) 2s/2s\u001b[K\u001b[0m\u001b[0G17:51:47 \u001b[0;34mPROGRESS \u001b[0m[]  86% (343/400) 2s/2s\u001b[K\u001b[0m\u001b[0G17:51:47 \u001b[0;34mPROGRESS \u001b[0m[]  86% (344/400) 2s/2s\u001b[K\u001b[0m\u001b[0G17:51:47 \u001b[0;34mPROGRESS \u001b[0m[]  86% (345/400) 2s/2s\u001b[K\u001b[0m\u001b[0G17:51:47 \u001b[0;34mPROGRESS \u001b[0m[]  87% (346/400) 2s/2s\u001b[K\u001b[0m\u001b[0G17:51:47 \u001b[0;34mPROGRESS \u001b[0m[]  87% (347/400) 2s/2s\u001b[K\u001b[0m\u001b[0G17:51:47 \u001b[0;34mPROGRESS \u001b[0m[]  87% (348/400) 2s/2s\u001b[K\u001b[0m\u001b[0G17:51:47 \u001b[0;34mPROGRESS \u001b[0m[]  87% (349/400) 2s/2s\u001b[K\u001b[0m\u001b[0G17:51:47 \u001b[0;34mPROGRESS \u001b[0m[]  88% (350/400) 2s/2s\u001b[K\u001b[0m\u001b[0G17:51:47 \u001b[0;34mPROGRESS \u001b[0m[]  88% (351/400) 2s/2s\u001b[K\u001b[0m\u001b[0G17:51:47 \u001b[0;34mPROGRESS \u001b[0m[]  88% (352/400) 2s/2s\u001b[K\u001b[0m\u001b[0G17:51:47 \u001b[0;34mPROGRESS \u001b[0m[]  88% (353/400) 2s/2s\u001b[K\u001b[0m\u001b[0G17:51:47 \u001b[0;34mPROGRESS \u001b[0m[]  89% (354/400) 2s/2s\u001b[K\u001b[0m\u001b[0G17:51:47 \u001b[0;34mPROGRESS \u001b[0m[]  89% (355/400) 2s/2s\u001b[K\u001b[0m\u001b[0G17:51:47 \u001b[0;34mPROGRESS \u001b[0m[]  89% (356/400) 2s/2s\u001b[K\u001b[0m\u001b[0G17:51:47 \u001b[0;34mPROGRESS \u001b[0m[]  89% (357/400) 2s/2s\u001b[K\u001b[0m\u001b[0G17:51:47 \u001b[0;34mPROGRESS \u001b[0m[]  90% (358/400) 2s/2s\u001b[K\u001b[0m\u001b[0G17:51:47 \u001b[0;34mPROGRESS \u001b[0m[]  90% (359/400) 2s/2s\u001b[K\u001b[0m\u001b[0G17:51:47 \u001b[0;34mPROGRESS \u001b[0m[]  90% (360/400) 2s/2s\u001b[K\u001b[0m\u001b[0G17:51:47 \u001b[0;34mPROGRESS \u001b[0m[]  90% (361/400) 2s/2s\u001b[K\u001b[0m\u001b[0G17:51:47 \u001b[0;34mPROGRESS \u001b[0m[]  91% (362/400) 2s/2s\u001b[K\u001b[0m\u001b[0G17:51:47 \u001b[0;34mPROGRESS \u001b[0m[]  91% (363/400) 2s/2s\u001b[K\u001b[0m\u001b[0G17:51:47 \u001b[0;34mPROGRESS \u001b[0m[]  91% (364/400) 2s/2s\u001b[K\u001b[0m\u001b[0G17:51:47 \u001b[0;34mPROGRESS \u001b[0m[]  91% (365/400) 2s/2s\u001b[K\u001b[0m\u001b[0G17:51:47 \u001b[0;34mPROGRESS \u001b[0m[]  92% (366/400) 2s/2s\u001b[K\u001b[0m\u001b[0G17:51:47 \u001b[0;34mPROGRESS \u001b[0m[]  92% (367/400) 2s/2s\u001b[K\u001b[0m\u001b[0G17:51:47 \u001b[0;34mPROGRESS \u001b[0m[]  92% (368/400) 2s/2s\u001b[K\u001b[0m\u001b[0G17:51:47 \u001b[0;34mPROGRESS \u001b[0m[]  92% (369/400) 2s/2s\u001b[K\u001b[0m\u001b[0G17:51:47 \u001b[0;34mPROGRESS \u001b[0m[]  93% (370/400) 2s/2s\u001b[K\u001b[0m\u001b[0G17:51:47 \u001b[0;34mPROGRESS \u001b[0m[]  93% (371/400) 2s/2s\u001b[K\u001b[0m\u001b[0G17:51:47 \u001b[0;34mPROGRESS \u001b[0m[]  93% (372/400) 2s/2s\u001b[K\u001b[0m\u001b[0G17:51:47 \u001b[0;34mPROGRESS \u001b[0m[]  93% (373/400) 2s/2s\u001b[K\u001b[0m\u001b[0G17:51:47 \u001b[0;34mPROGRESS \u001b[0m[]  94% (374/400) 2s/2s\u001b[K\u001b[0m\u001b[0G17:51:47 \u001b[0;34mPROGRESS \u001b[0m[]  94% (375/400) 2s/2s\u001b[K\u001b[0m\u001b[0G17:51:47 \u001b[0;34mPROGRESS \u001b[0m[]  94% (376/400) 2s/2s\u001b[K\u001b[0m\u001b[0G17:51:47 \u001b[0;34mPROGRESS \u001b[0m[]  94% (377/400) 2s/2s\u001b[K\u001b[0m\u001b[0G17:51:47 \u001b[0;34mPROGRESS \u001b[0m[]  95% (378/400) 2s/2s\u001b[K\u001b[0m\u001b[0G17:51:47 \u001b[0;34mPROGRESS \u001b[0m[]  95% (379/400) 2s/2s\u001b[K\u001b[0m\u001b[0G17:51:47 \u001b[0;34mPROGRESS \u001b[0m[]  95% (380/400) 2s/2s\u001b[K\u001b[0m\u001b[0G17:51:47 \u001b[0;34mPROGRESS \u001b[0m[]  95% (381/400) 2s/2s\u001b[K\u001b[0m\u001b[0G17:51:47 \u001b[0;34mPROGRESS \u001b[0m[]  96% (382/400) 2s/2s\u001b[K\u001b[0m\u001b[0G17:51:47 \u001b[0;34mPROGRESS \u001b[0m[]  96% (383/400) 2s/2s\u001b[K\u001b[0m\u001b[0G17:51:47 \u001b[0;34mPROGRESS \u001b[0m[]  96% (384/400) 2s/2s\u001b[K\u001b[0m\u001b[0G17:51:47 \u001b[0;34mPROGRESS \u001b[0m[]  96% (385/400) 2s/2s\u001b[K\u001b[0m\u001b[0G17:51:47 \u001b[0;34mPROGRESS \u001b[0m[]  97% (386/400) 2s/2s\u001b[K\u001b[0m\u001b[0G17:51:47 \u001b[0;34mPROGRESS \u001b[0m[]  97% (387/400) 2s/2s\u001b[K\u001b[0m\u001b[0G17:51:47 \u001b[0;34mPROGRESS \u001b[0m[]  97% (388/400) 2s/2s\u001b[K\u001b[0m\u001b[0G17:51:47 \u001b[0;34mPROGRESS \u001b[0m[]  97% (389/400) 2s/2s\u001b[K\u001b[0m\u001b[0G17:51:47 \u001b[0;34mPROGRESS \u001b[0m[]  98% (390/400) 2s/2s\u001b[K\u001b[0m\u001b[0G17:51:47 \u001b[0;34mPROGRESS \u001b[0m[]  98% (391/400) 2s/2s\u001b[K\u001b[0m\u001b[0G17:51:47 \u001b[0;34mPROGRESS \u001b[0m[]  98% (392/400) 2s/2s\u001b[K\u001b[0m\u001b[0G17:51:47 \u001b[0;34mPROGRESS \u001b[0m[]  98% (393/400) 2s/2s\u001b[K\u001b[0m\u001b[0G17:51:47 \u001b[0;34mPROGRESS \u001b[0m[]  99% (394/400) 2s/2s\u001b[K\u001b[0m\u001b[0G17:51:47 \u001b[0;34mPROGRESS \u001b[0m[]  99% (395/400) 2s/2s\u001b[K\u001b[0m\u001b[0G17:51:47 \u001b[0;34mPROGRESS \u001b[0m[]  99% (396/400) 2s/2s\u001b[K\u001b[0m\u001b[0G17:51:47 \u001b[0;34mPROGRESS \u001b[0m[]  99% (397/400) 2s/2s\u001b[K\u001b[0m\u001b[0G17:51:47 \u001b[0;34mPROGRESS \u001b[0m[] 100% (398/400) 2s/2s\u001b[K\u001b[0m\u001b[0G17:51:47 \u001b[0;34mPROGRESS \u001b[0m[] 100% (399/400) 2s/2s\u001b[K\u001b[0m\u001b[0G17:51:47 \u001b[0;34mPROGRESS \u001b[0m[] 100% (400/400) 2s/2s\u001b[K\u001b[0m\u001b[0G17:51:47 \u001b[0;32mSUCCESS  \u001b[0mLoaded 400 images after 2s\u001b[K\u001b[0m\n",
            "17:51:47 \u001b[0;36mINFO     \u001b[0m  cam_aabb=[min=[-0.798437,-0.79954,0.665], max=[1.79653,1.81997,1.83017]]\u001b[K\u001b[0m\n",
            "17:51:48 \u001b[0;36mINFO     \u001b[0mLoading network config from: /content/instant-ngp/configs/nerf/base.json\u001b[K\u001b[0m\n",
            "17:51:48 \u001b[0;36mINFO     \u001b[0mGridEncoding:  Nmin=16 b=1.38191 F=2 T=2^19 L=16\u001b[K\u001b[0m\n",
            "17:51:48 \u001b[0;36mINFO     \u001b[0mDensity model: 3--[HashGrid]-->32--[FullyFusedMLP(neurons=64,layers=3)]-->1\u001b[K\u001b[0m\n",
            "17:51:48 \u001b[0;36mINFO     \u001b[0mColor model:   3--[Composite]-->16+16--[FullyFusedMLP(neurons=64,layers=4)]-->3\u001b[K\u001b[0m\n",
            "17:51:48 \u001b[0;36mINFO     \u001b[0m  total_encoding_params=12196240 total_network_params=10240\u001b[K\u001b[0m\n",
            "Training: 100% 2998/3000 [01:08<00:00, 44.05step/s, loss=0.000245]\n",
            "Generating mesh via marching cubes and saving to mic.ply. Resolution=[256,256,256]\n",
            "17:52:56 \u001b[0;36mINFO     \u001b[0m#vertices=60402 #triangles=119648\u001b[K\u001b[0m\n",
            "Rendering /content/screenshots/data/nerf/mic/_base.png\n",
            "\u001b[0m"
          ]
        }
      ]
    }
  ],
  "metadata": {
    "colab": {
      "collapsed_sections": [],
      "name": "Copy of instant_ngp (export *.ply).ipynb",
      "provenance": [],
      "include_colab_link": true
    },
    "kernelspec": {
      "display_name": "Python 3",
      "name": "python3"
    },
    "language_info": {
      "name": "python"
    },
    "accelerator": "GPU"
  },
  "nbformat": 4,
  "nbformat_minor": 0
}
